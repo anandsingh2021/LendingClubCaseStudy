{
 "cells": [
  {
   "cell_type": "code",
   "execution_count": 1,
   "id": "eb4c4079-b1f4-4664-9e92-e5f739b4c3ed",
   "metadata": {},
   "outputs": [],
   "source": [
    "# Lending club case study"
   ]
  },
  {
   "cell_type": "code",
   "execution_count": 3,
   "id": "13318eb4-edd7-4fb2-9b98-0ec714792d7e",
   "metadata": {},
   "outputs": [],
   "source": [
    "# Problem Statement and Goals - Identify key variables influencing loan defaults. This in turn will help make informed decisions and reduce financial risks"
   ]
  },
  {
   "cell_type": "code",
   "execution_count": 5,
   "id": "20b5a172-3cf9-41c5-9c57-32d46c3bef4b",
   "metadata": {},
   "outputs": [],
   "source": [
    "# Importing Required Libraries\n",
    "import pandas as pd\n",
    "import numpy as np\n",
    "import matplotlib.pyplot as plt\n",
    "import seaborn as sns"
   ]
  },
  {
   "cell_type": "code",
   "execution_count": 11,
   "id": "c60fccb6-34be-41b2-9c1e-cf1f11becb88",
   "metadata": {},
   "outputs": [
    {
     "name": "stderr",
     "output_type": "stream",
     "text": [
      "C:\\Users\\anand\\AppData\\Local\\Temp\\ipykernel_32740\\1848076710.py:2: DtypeWarning: Columns (47) have mixed types. Specify dtype option on import or set low_memory=False.\n",
      "  loan_data = pd.read_csv('C:/Users/anand/Desktop/Lending_Club_Case_Study/loan.csv')\n"
     ]
    }
   ],
   "source": [
    "# Data Loading - Load the dataset\n",
    "loan_data = pd.read_csv('C:/Users/anand/Desktop/Lending_Club_Case_Study/loan.csv')"
   ]
  },
  {
   "cell_type": "code",
   "execution_count": 15,
   "id": "e7f8954c-8c44-462a-84aa-61633b99152e",
   "metadata": {},
   "outputs": [],
   "source": [
    "#Setting low_memory=False so as to ensures that pandas loads the data in chunks and infers data types more reliably\n",
    "loan_data = pd.read_csv('C:/Users/anand/Desktop/Lending_Club_Case_Study/loan.csv', low_memory=False)"
   ]
  },
  {
   "cell_type": "code",
   "execution_count": 17,
   "id": "ccc594b7-4d89-49d4-8188-e642f7cd4a47",
   "metadata": {},
   "outputs": [
    {
     "data": {
      "text/html": [
       "<div>\n",
       "<style scoped>\n",
       "    .dataframe tbody tr th:only-of-type {\n",
       "        vertical-align: middle;\n",
       "    }\n",
       "\n",
       "    .dataframe tbody tr th {\n",
       "        vertical-align: top;\n",
       "    }\n",
       "\n",
       "    .dataframe thead th {\n",
       "        text-align: right;\n",
       "    }\n",
       "</style>\n",
       "<table border=\"1\" class=\"dataframe\">\n",
       "  <thead>\n",
       "    <tr style=\"text-align: right;\">\n",
       "      <th></th>\n",
       "      <th>id</th>\n",
       "      <th>member_id</th>\n",
       "      <th>loan_amnt</th>\n",
       "      <th>funded_amnt</th>\n",
       "      <th>funded_amnt_inv</th>\n",
       "      <th>term</th>\n",
       "      <th>int_rate</th>\n",
       "      <th>installment</th>\n",
       "      <th>grade</th>\n",
       "      <th>sub_grade</th>\n",
       "      <th>...</th>\n",
       "      <th>num_tl_90g_dpd_24m</th>\n",
       "      <th>num_tl_op_past_12m</th>\n",
       "      <th>pct_tl_nvr_dlq</th>\n",
       "      <th>percent_bc_gt_75</th>\n",
       "      <th>pub_rec_bankruptcies</th>\n",
       "      <th>tax_liens</th>\n",
       "      <th>tot_hi_cred_lim</th>\n",
       "      <th>total_bal_ex_mort</th>\n",
       "      <th>total_bc_limit</th>\n",
       "      <th>total_il_high_credit_limit</th>\n",
       "    </tr>\n",
       "  </thead>\n",
       "  <tbody>\n",
       "    <tr>\n",
       "      <th>0</th>\n",
       "      <td>1077501</td>\n",
       "      <td>1296599</td>\n",
       "      <td>5000</td>\n",
       "      <td>5000</td>\n",
       "      <td>4975.0</td>\n",
       "      <td>36 months</td>\n",
       "      <td>10.65%</td>\n",
       "      <td>162.87</td>\n",
       "      <td>B</td>\n",
       "      <td>B2</td>\n",
       "      <td>...</td>\n",
       "      <td>NaN</td>\n",
       "      <td>NaN</td>\n",
       "      <td>NaN</td>\n",
       "      <td>NaN</td>\n",
       "      <td>0.0</td>\n",
       "      <td>0.0</td>\n",
       "      <td>NaN</td>\n",
       "      <td>NaN</td>\n",
       "      <td>NaN</td>\n",
       "      <td>NaN</td>\n",
       "    </tr>\n",
       "    <tr>\n",
       "      <th>1</th>\n",
       "      <td>1077430</td>\n",
       "      <td>1314167</td>\n",
       "      <td>2500</td>\n",
       "      <td>2500</td>\n",
       "      <td>2500.0</td>\n",
       "      <td>60 months</td>\n",
       "      <td>15.27%</td>\n",
       "      <td>59.83</td>\n",
       "      <td>C</td>\n",
       "      <td>C4</td>\n",
       "      <td>...</td>\n",
       "      <td>NaN</td>\n",
       "      <td>NaN</td>\n",
       "      <td>NaN</td>\n",
       "      <td>NaN</td>\n",
       "      <td>0.0</td>\n",
       "      <td>0.0</td>\n",
       "      <td>NaN</td>\n",
       "      <td>NaN</td>\n",
       "      <td>NaN</td>\n",
       "      <td>NaN</td>\n",
       "    </tr>\n",
       "    <tr>\n",
       "      <th>2</th>\n",
       "      <td>1077175</td>\n",
       "      <td>1313524</td>\n",
       "      <td>2400</td>\n",
       "      <td>2400</td>\n",
       "      <td>2400.0</td>\n",
       "      <td>36 months</td>\n",
       "      <td>15.96%</td>\n",
       "      <td>84.33</td>\n",
       "      <td>C</td>\n",
       "      <td>C5</td>\n",
       "      <td>...</td>\n",
       "      <td>NaN</td>\n",
       "      <td>NaN</td>\n",
       "      <td>NaN</td>\n",
       "      <td>NaN</td>\n",
       "      <td>0.0</td>\n",
       "      <td>0.0</td>\n",
       "      <td>NaN</td>\n",
       "      <td>NaN</td>\n",
       "      <td>NaN</td>\n",
       "      <td>NaN</td>\n",
       "    </tr>\n",
       "    <tr>\n",
       "      <th>3</th>\n",
       "      <td>1076863</td>\n",
       "      <td>1277178</td>\n",
       "      <td>10000</td>\n",
       "      <td>10000</td>\n",
       "      <td>10000.0</td>\n",
       "      <td>36 months</td>\n",
       "      <td>13.49%</td>\n",
       "      <td>339.31</td>\n",
       "      <td>C</td>\n",
       "      <td>C1</td>\n",
       "      <td>...</td>\n",
       "      <td>NaN</td>\n",
       "      <td>NaN</td>\n",
       "      <td>NaN</td>\n",
       "      <td>NaN</td>\n",
       "      <td>0.0</td>\n",
       "      <td>0.0</td>\n",
       "      <td>NaN</td>\n",
       "      <td>NaN</td>\n",
       "      <td>NaN</td>\n",
       "      <td>NaN</td>\n",
       "    </tr>\n",
       "    <tr>\n",
       "      <th>4</th>\n",
       "      <td>1075358</td>\n",
       "      <td>1311748</td>\n",
       "      <td>3000</td>\n",
       "      <td>3000</td>\n",
       "      <td>3000.0</td>\n",
       "      <td>60 months</td>\n",
       "      <td>12.69%</td>\n",
       "      <td>67.79</td>\n",
       "      <td>B</td>\n",
       "      <td>B5</td>\n",
       "      <td>...</td>\n",
       "      <td>NaN</td>\n",
       "      <td>NaN</td>\n",
       "      <td>NaN</td>\n",
       "      <td>NaN</td>\n",
       "      <td>0.0</td>\n",
       "      <td>0.0</td>\n",
       "      <td>NaN</td>\n",
       "      <td>NaN</td>\n",
       "      <td>NaN</td>\n",
       "      <td>NaN</td>\n",
       "    </tr>\n",
       "  </tbody>\n",
       "</table>\n",
       "<p>5 rows × 111 columns</p>\n",
       "</div>"
      ],
      "text/plain": [
       "        id  member_id  loan_amnt  funded_amnt  funded_amnt_inv        term  \\\n",
       "0  1077501    1296599       5000         5000           4975.0   36 months   \n",
       "1  1077430    1314167       2500         2500           2500.0   60 months   \n",
       "2  1077175    1313524       2400         2400           2400.0   36 months   \n",
       "3  1076863    1277178      10000        10000          10000.0   36 months   \n",
       "4  1075358    1311748       3000         3000           3000.0   60 months   \n",
       "\n",
       "  int_rate  installment grade sub_grade  ... num_tl_90g_dpd_24m  \\\n",
       "0   10.65%       162.87     B        B2  ...                NaN   \n",
       "1   15.27%        59.83     C        C4  ...                NaN   \n",
       "2   15.96%        84.33     C        C5  ...                NaN   \n",
       "3   13.49%       339.31     C        C1  ...                NaN   \n",
       "4   12.69%        67.79     B        B5  ...                NaN   \n",
       "\n",
       "  num_tl_op_past_12m pct_tl_nvr_dlq  percent_bc_gt_75 pub_rec_bankruptcies  \\\n",
       "0                NaN            NaN               NaN                  0.0   \n",
       "1                NaN            NaN               NaN                  0.0   \n",
       "2                NaN            NaN               NaN                  0.0   \n",
       "3                NaN            NaN               NaN                  0.0   \n",
       "4                NaN            NaN               NaN                  0.0   \n",
       "\n",
       "  tax_liens tot_hi_cred_lim total_bal_ex_mort total_bc_limit  \\\n",
       "0       0.0             NaN               NaN            NaN   \n",
       "1       0.0             NaN               NaN            NaN   \n",
       "2       0.0             NaN               NaN            NaN   \n",
       "3       0.0             NaN               NaN            NaN   \n",
       "4       0.0             NaN               NaN            NaN   \n",
       "\n",
       "  total_il_high_credit_limit  \n",
       "0                        NaN  \n",
       "1                        NaN  \n",
       "2                        NaN  \n",
       "3                        NaN  \n",
       "4                        NaN  \n",
       "\n",
       "[5 rows x 111 columns]"
      ]
     },
     "execution_count": 17,
     "metadata": {},
     "output_type": "execute_result"
    }
   ],
   "source": [
    "# Display the first few rows of the dataset\n",
    "loan_data.head(5)"
   ]
  },
  {
   "cell_type": "code",
   "execution_count": 19,
   "id": "76cd9158-0ff0-425b-aa7a-796da336ec92",
   "metadata": {},
   "outputs": [
    {
     "data": {
      "text/plain": [
       "(39717, 111)"
      ]
     },
     "execution_count": 19,
     "metadata": {},
     "output_type": "execute_result"
    }
   ],
   "source": [
    "#Check the shape and info of loan_data\n",
    "loan_data.shape"
   ]
  },
  {
   "cell_type": "code",
   "execution_count": 21,
   "id": "1a740c8b-5282-44fb-a6c2-a3ce7821771d",
   "metadata": {},
   "outputs": [
    {
     "data": {
      "text/plain": [
       "id                                0\n",
       "member_id                         0\n",
       "loan_amnt                         0\n",
       "funded_amnt                       0\n",
       "funded_amnt_inv                   0\n",
       "                              ...  \n",
       "tax_liens                        39\n",
       "tot_hi_cred_lim               39717\n",
       "total_bal_ex_mort             39717\n",
       "total_bc_limit                39717\n",
       "total_il_high_credit_limit    39717\n",
       "Length: 111, dtype: int64"
      ]
     },
     "execution_count": 21,
     "metadata": {},
     "output_type": "execute_result"
    }
   ],
   "source": [
    "# Identifying the null values in all columns\n",
    "loan_data.isnull().sum()"
   ]
  },
  {
   "cell_type": "code",
   "execution_count": 23,
   "id": "745f47a5-55c5-4e93-b5e1-2bed72002163",
   "metadata": {},
   "outputs": [
    {
     "data": {
      "text/plain": [
       "emp_title                      2459\n",
       "emp_length                     1075\n",
       "desc                          12942\n",
       "title                            11\n",
       "mths_since_last_delinq        25682\n",
       "                              ...  \n",
       "tax_liens                        39\n",
       "tot_hi_cred_lim               39717\n",
       "total_bal_ex_mort             39717\n",
       "total_bc_limit                39717\n",
       "total_il_high_credit_limit    39717\n",
       "Length: 68, dtype: int64"
      ]
     },
     "execution_count": 23,
     "metadata": {},
     "output_type": "execute_result"
    }
   ],
   "source": [
    "# Identifying the columns where the null value count is greater that zero\n",
    "loan_data.isnull().sum()[loan_data.isnull().sum() > 0 ]"
   ]
  },
  {
   "cell_type": "code",
   "execution_count": 33,
   "id": "3bbf1b8c-ebaf-4dfe-84fa-1b04a6e2a80e",
   "metadata": {},
   "outputs": [],
   "source": [
    "# 54 columns have only NaN values for all records and hence dropping them\n",
    "# Drop all columns where all the values are NaN\n",
    "loan_data = loan_data.dropna(axis=1, how='all')"
   ]
  },
  {
   "cell_type": "code",
   "execution_count": 35,
   "id": "6773c30f-1df0-4843-b765-f7e2b293867b",
   "metadata": {},
   "outputs": [
    {
     "data": {
      "text/plain": [
       "(39717, 57)"
      ]
     },
     "execution_count": 35,
     "metadata": {},
     "output_type": "execute_result"
    }
   ],
   "source": [
    "loan_data.shape"
   ]
  },
  {
   "cell_type": "code",
   "execution_count": 37,
   "id": "d9435345-7903-4833-ae9f-29e6d6ad82c0",
   "metadata": {},
   "outputs": [
    {
     "data": {
      "text/plain": [
       "emp_title                      2459\n",
       "emp_length                     1075\n",
       "desc                          12942\n",
       "title                            11\n",
       "mths_since_last_delinq        25682\n",
       "mths_since_last_record        36931\n",
       "revol_util                       50\n",
       "last_pymnt_d                     71\n",
       "next_pymnt_d                  38577\n",
       "last_credit_pull_d                2\n",
       "collections_12_mths_ex_med       56\n",
       "chargeoff_within_12_mths         56\n",
       "pub_rec_bankruptcies            697\n",
       "tax_liens                        39\n",
       "dtype: int64"
      ]
     },
     "execution_count": 37,
     "metadata": {},
     "output_type": "execute_result"
    }
   ],
   "source": [
    "# Identifying the columns where the null value count is greater that zero in the new data frame\n",
    "loan_data.isnull().sum()[loan_data_clean.isnull().sum() > 0 ]"
   ]
  },
  {
   "cell_type": "code",
   "execution_count": 41,
   "id": "363e2242-5800-4b86-8567-5682bd4d3d8b",
   "metadata": {},
   "outputs": [],
   "source": [
    "# Drop columns where the number of null values exceeds 60% of the total records\n",
    "loan_data = loan_data_clean.dropna(axis=1, thresh=(0.6*len(loan_data)))"
   ]
  },
  {
   "cell_type": "code",
   "execution_count": 43,
   "id": "d963fce1-3c54-4412-b88c-5c26745b5262",
   "metadata": {},
   "outputs": [
    {
     "data": {
      "text/plain": [
       "(39717, 54)"
      ]
     },
     "execution_count": 43,
     "metadata": {},
     "output_type": "execute_result"
    }
   ],
   "source": [
    "loan_data.shape"
   ]
  },
  {
   "cell_type": "code",
   "execution_count": 45,
   "id": "2fa7ede6-3813-41d5-bcab-c2320dab1eb3",
   "metadata": {},
   "outputs": [
    {
     "data": {
      "text/plain": [
       "emp_title                      2459\n",
       "emp_length                     1075\n",
       "desc                          12942\n",
       "title                            11\n",
       "revol_util                       50\n",
       "last_pymnt_d                     71\n",
       "last_credit_pull_d                2\n",
       "collections_12_mths_ex_med       56\n",
       "chargeoff_within_12_mths         56\n",
       "pub_rec_bankruptcies            697\n",
       "tax_liens                        39\n",
       "dtype: int64"
      ]
     },
     "execution_count": 45,
     "metadata": {},
     "output_type": "execute_result"
    }
   ],
   "source": [
    "# Identifying the columns where the null value count is still greater that zero\n",
    "loan_data.isnull().sum()[loan_data_clean.isnull().sum() > 0 ]"
   ]
  },
  {
   "cell_type": "code",
   "execution_count": 49,
   "id": "53f8469c-b9cd-4fba-a961-8a61ca83ccf8",
   "metadata": {},
   "outputs": [
    {
     "data": {
      "text/plain": [
       "emp_title\n",
       "US Army                              134\n",
       "Bank of America                      109\n",
       "IBM                                   66\n",
       "AT&T                                  59\n",
       "Kaiser Permanente                     56\n",
       "                                    ... \n",
       "Community College of Philadelphia      1\n",
       "AMEC                                   1\n",
       "lee county sheriff                     1\n",
       "Bacon County Board of Education        1\n",
       "Evergreen Center                       1\n",
       "Name: count, Length: 28820, dtype: int64"
      ]
     },
     "execution_count": 49,
     "metadata": {},
     "output_type": "execute_result"
    }
   ],
   "source": [
    "# Exploring emp_title column\n",
    "loan_data.emp_title.value_counts()"
   ]
  },
  {
   "cell_type": "code",
   "execution_count": 51,
   "id": "89ea814a-f8c8-4c26-86dc-3f2770606b58",
   "metadata": {},
   "outputs": [
    {
     "data": {
      "text/plain": [
       "28820"
      ]
     },
     "execution_count": 51,
     "metadata": {},
     "output_type": "execute_result"
    }
   ],
   "source": [
    "# Count of unique values in emp_tile excluding NaN values\n",
    "loan_data['emp_title'].nunique()"
   ]
  },
  {
   "cell_type": "code",
   "execution_count": 53,
   "id": "2b3ca4bb-7459-4dba-b670-0006e8c539ec",
   "metadata": {},
   "outputs": [],
   "source": [
    "#Large no of unique values - even if treated is going to add any value or help us uncover any patterns"
   ]
  },
  {
   "cell_type": "code",
   "execution_count": 55,
   "id": "a8e3dcad-adf7-439a-9355-e641c1153aa6",
   "metadata": {},
   "outputs": [
    {
     "data": {
      "text/plain": [
       "term\n",
       "36 months    29096\n",
       "60 months    10621\n",
       "Name: count, dtype: int64"
      ]
     },
     "execution_count": 55,
     "metadata": {},
     "output_type": "execute_result"
    }
   ],
   "source": [
    "# Exploring terms column\n",
    "loan_data.term.value_counts()"
   ]
  },
  {
   "cell_type": "code",
   "execution_count": 57,
   "id": "e7512e1a-d5cf-4850-87e9-8747c20876c0",
   "metadata": {},
   "outputs": [],
   "source": [
    "# There are 2 types of tenure viz. 36 months and 60 months"
   ]
  },
  {
   "cell_type": "code",
   "execution_count": 63,
   "id": "32eae03a-712a-4acb-b13b-b029c3d38171",
   "metadata": {},
   "outputs": [
    {
     "data": {
      "text/plain": [
       "0"
      ]
     },
     "execution_count": 63,
     "metadata": {},
     "output_type": "execute_result"
    }
   ],
   "source": [
    "loan_data.term.isnull().sum()"
   ]
  },
  {
   "cell_type": "code",
   "execution_count": 61,
   "id": "ff7fe889-78a4-4508-a5ef-c07daeabd96b",
   "metadata": {},
   "outputs": [],
   "source": [
    "#There are no null values in the column term"
   ]
  },
  {
   "cell_type": "code",
   "execution_count": 69,
   "id": "9e96b7fd-3a27-46f0-a401-2a79e768a065",
   "metadata": {},
   "outputs": [
    {
     "data": {
      "text/plain": [
       "int_rate\n",
       "10.99%    956\n",
       "13.49%    826\n",
       "11.49%    825\n",
       "7.51%     787\n",
       "7.88%     725\n",
       "         ... \n",
       "18.36%      1\n",
       "16.96%      1\n",
       "16.15%      1\n",
       "16.01%      1\n",
       "17.44%      1\n",
       "Name: count, Length: 371, dtype: int64"
      ]
     },
     "execution_count": 69,
     "metadata": {},
     "output_type": "execute_result"
    }
   ],
   "source": [
    "# Exploring int_rate column\n",
    "loan_data.int_rate.value_counts()"
   ]
  },
  {
   "cell_type": "code",
   "execution_count": 71,
   "id": "4e27eefa-7e05-4626-b392-8bed2f5bce9a",
   "metadata": {},
   "outputs": [
    {
     "data": {
      "text/html": [
       "<div>\n",
       "<style scoped>\n",
       "    .dataframe tbody tr th:only-of-type {\n",
       "        vertical-align: middle;\n",
       "    }\n",
       "\n",
       "    .dataframe tbody tr th {\n",
       "        vertical-align: top;\n",
       "    }\n",
       "\n",
       "    .dataframe thead th {\n",
       "        text-align: right;\n",
       "    }\n",
       "</style>\n",
       "<table border=\"1\" class=\"dataframe\">\n",
       "  <thead>\n",
       "    <tr style=\"text-align: right;\">\n",
       "      <th></th>\n",
       "      <th>int_rate</th>\n",
       "      <th>int_rate_num</th>\n",
       "    </tr>\n",
       "  </thead>\n",
       "  <tbody>\n",
       "    <tr>\n",
       "      <th>0</th>\n",
       "      <td>10.65%</td>\n",
       "      <td>10.65</td>\n",
       "    </tr>\n",
       "    <tr>\n",
       "      <th>1</th>\n",
       "      <td>15.27%</td>\n",
       "      <td>15.27</td>\n",
       "    </tr>\n",
       "    <tr>\n",
       "      <th>2</th>\n",
       "      <td>15.96%</td>\n",
       "      <td>15.96</td>\n",
       "    </tr>\n",
       "    <tr>\n",
       "      <th>3</th>\n",
       "      <td>13.49%</td>\n",
       "      <td>13.49</td>\n",
       "    </tr>\n",
       "    <tr>\n",
       "      <th>4</th>\n",
       "      <td>12.69%</td>\n",
       "      <td>12.69</td>\n",
       "    </tr>\n",
       "  </tbody>\n",
       "</table>\n",
       "</div>"
      ],
      "text/plain": [
       "  int_rate  int_rate_num\n",
       "0   10.65%         10.65\n",
       "1   15.27%         15.27\n",
       "2   15.96%         15.96\n",
       "3   13.49%         13.49\n",
       "4   12.69%         12.69"
      ]
     },
     "execution_count": 71,
     "metadata": {},
     "output_type": "execute_result"
    }
   ],
   "source": [
    "# Remove the percentage sign from int_rate and convert to numeric\n",
    "loan_data['int_rate_num'] = loan_data['int_rate'].str.replace('%', '').astype(float)\n",
    "\n",
    "# Display the first few rows to verify\n",
    "loan_data[['int_rate', 'int_rate_num']].head()"
   ]
  },
  {
   "cell_type": "code",
   "execution_count": 73,
   "id": "d81e9be2-ee52-4a6f-96a6-1d3c2bd8c79c",
   "metadata": {},
   "outputs": [
    {
     "data": {
      "text/plain": [
       "dtype('float64')"
      ]
     },
     "execution_count": 73,
     "metadata": {},
     "output_type": "execute_result"
    }
   ],
   "source": [
    "loan_data.int_rate_num.dtype"
   ]
  },
  {
   "cell_type": "code",
   "execution_count": 75,
   "id": "ad2e8bc8-a835-47c4-b1c8-7de632795405",
   "metadata": {},
   "outputs": [
    {
     "data": {
      "text/plain": [
       "int_rate_num\n",
       "10.99    956\n",
       "13.49    826\n",
       "11.49    825\n",
       "7.51     787\n",
       "7.88     725\n",
       "        ... \n",
       "18.36      1\n",
       "16.96      1\n",
       "16.15      1\n",
       "16.01      1\n",
       "17.44      1\n",
       "Name: count, Length: 371, dtype: int64"
      ]
     },
     "execution_count": 75,
     "metadata": {},
     "output_type": "execute_result"
    }
   ],
   "source": [
    "loan_data.int_rate_num.value_counts()"
   ]
  },
  {
   "cell_type": "code",
   "execution_count": 77,
   "id": "7c4e464c-1c90-4358-b02b-ce33c8d1c363",
   "metadata": {},
   "outputs": [
    {
     "data": {
      "text/html": [
       "<div>\n",
       "<style scoped>\n",
       "    .dataframe tbody tr th:only-of-type {\n",
       "        vertical-align: middle;\n",
       "    }\n",
       "\n",
       "    .dataframe tbody tr th {\n",
       "        vertical-align: top;\n",
       "    }\n",
       "\n",
       "    .dataframe thead th {\n",
       "        text-align: right;\n",
       "    }\n",
       "</style>\n",
       "<table border=\"1\" class=\"dataframe\">\n",
       "  <thead>\n",
       "    <tr style=\"text-align: right;\">\n",
       "      <th></th>\n",
       "      <th>int_rate</th>\n",
       "      <th>int_rate_num</th>\n",
       "      <th>int_rate_bucket</th>\n",
       "    </tr>\n",
       "  </thead>\n",
       "  <tbody>\n",
       "    <tr>\n",
       "      <th>0</th>\n",
       "      <td>10.65%</td>\n",
       "      <td>10.65</td>\n",
       "      <td>10-15</td>\n",
       "    </tr>\n",
       "    <tr>\n",
       "      <th>1</th>\n",
       "      <td>15.27%</td>\n",
       "      <td>15.27</td>\n",
       "      <td>15-20</td>\n",
       "    </tr>\n",
       "    <tr>\n",
       "      <th>2</th>\n",
       "      <td>15.96%</td>\n",
       "      <td>15.96</td>\n",
       "      <td>15-20</td>\n",
       "    </tr>\n",
       "    <tr>\n",
       "      <th>3</th>\n",
       "      <td>13.49%</td>\n",
       "      <td>13.49</td>\n",
       "      <td>10-15</td>\n",
       "    </tr>\n",
       "    <tr>\n",
       "      <th>4</th>\n",
       "      <td>12.69%</td>\n",
       "      <td>12.69</td>\n",
       "      <td>10-15</td>\n",
       "    </tr>\n",
       "  </tbody>\n",
       "</table>\n",
       "</div>"
      ],
      "text/plain": [
       "  int_rate  int_rate_num int_rate_bucket\n",
       "0   10.65%         10.65           10-15\n",
       "1   15.27%         15.27           15-20\n",
       "2   15.96%         15.96           15-20\n",
       "3   13.49%         13.49           10-15\n",
       "4   12.69%         12.69           10-15"
      ]
     },
     "execution_count": 77,
     "metadata": {},
     "output_type": "execute_result"
    }
   ],
   "source": [
    "# Define bins and labels for bucketing\n",
    "bins = [0, 5, 10, 15, 20, 25] # bin edges\n",
    "labels = ['0-5', '5-10', '10-15', '15-20', '20-25'] # Bucket labels\n",
    "\n",
    "# Create the bucketized column\n",
    "loan_data['int_rate_bucket'] = pd.cut(loan_data['int_rate_num'], bins=bins, labels=labels, right=False)\n",
    "# Display the first few rows to verify\n",
    "loan_data[['int_rate', 'int_rate_num', 'int_rate_bucket']].head()"
   ]
  },
  {
   "cell_type": "code",
   "execution_count": 79,
   "id": "929cbb08-6214-4efa-9b5c-7b9f610a5417",
   "metadata": {},
   "outputs": [
    {
     "data": {
      "text/plain": [
       "int_rate_bucket\n",
       "10-15    19045\n",
       "5-10     12142\n",
       "15-20     7658\n",
       "20-25      872\n",
       "0-5          0\n",
       "Name: count, dtype: int64"
      ]
     },
     "execution_count": 79,
     "metadata": {},
     "output_type": "execute_result"
    }
   ],
   "source": [
    "loan_data.int_rate_bucket.value_counts()"
   ]
  },
  {
   "cell_type": "code",
   "execution_count": 83,
   "id": "71f35010-2f2e-43a9-aea2-503bb5466100",
   "metadata": {},
   "outputs": [
    {
     "data": {
      "text/plain": [
       "loan_amnt\n",
       "10000    2833\n",
       "12000    2334\n",
       "5000     2051\n",
       "6000     1908\n",
       "15000    1895\n",
       "         ... \n",
       "22875       1\n",
       "8175        1\n",
       "19475       1\n",
       "21225       1\n",
       "22550       1\n",
       "Name: count, Length: 885, dtype: int64"
      ]
     },
     "execution_count": 83,
     "metadata": {},
     "output_type": "execute_result"
    }
   ],
   "source": [
    "loan_data.loan_amnt.value_counts()"
   ]
  },
  {
   "cell_type": "code",
   "execution_count": 85,
   "id": "318cd044-7f2f-402d-87ec-6c059c55dae3",
   "metadata": {},
   "outputs": [],
   "source": [
    "# Create Buckets for Loan Amount\n",
    "bins = [0, 5000, 10000, 15000, 20000, 25000, 35000]\n",
    "labels = ['0-5K', '5K-10K', '10K-15K', '15K-20K', '20K-25K', '25K+']\n",
    "loan_data['loan_amnt_bucket'] = pd.cut(loan_data['loan_amnt'], bins=bins, labels=labels, include_lowest=True)"
   ]
  },
  {
   "cell_type": "code",
   "execution_count": 87,
   "id": "121a654f-53a4-45f7-b331-5b4c59baaee0",
   "metadata": {},
   "outputs": [
    {
     "data": {
      "text/plain": [
       "0      0-5K\n",
       "1      0-5K\n",
       "2      0-5K\n",
       "3    5K-10K\n",
       "4      0-5K\n",
       "Name: loan_amnt_bucket, dtype: category\n",
       "Categories (6, object): ['0-5K' < '5K-10K' < '10K-15K' < '15K-20K' < '20K-25K' < '25K+']"
      ]
     },
     "execution_count": 87,
     "metadata": {},
     "output_type": "execute_result"
    }
   ],
   "source": [
    "loan_data.loan_amnt_bucket.head()"
   ]
  },
  {
   "cell_type": "code",
   "execution_count": 107,
   "id": "b2e73886-a37c-4514-bd9f-779aaafd39da",
   "metadata": {},
   "outputs": [
    {
     "data": {
      "text/html": [
       "<div>\n",
       "<style scoped>\n",
       "    .dataframe tbody tr th:only-of-type {\n",
       "        vertical-align: middle;\n",
       "    }\n",
       "\n",
       "    .dataframe tbody tr th {\n",
       "        vertical-align: top;\n",
       "    }\n",
       "\n",
       "    .dataframe thead th {\n",
       "        text-align: right;\n",
       "    }\n",
       "</style>\n",
       "<table border=\"1\" class=\"dataframe\">\n",
       "  <thead>\n",
       "    <tr style=\"text-align: right;\">\n",
       "      <th></th>\n",
       "      <th>id</th>\n",
       "      <th>member_id</th>\n",
       "      <th>loan_amnt</th>\n",
       "      <th>funded_amnt</th>\n",
       "      <th>funded_amnt_inv</th>\n",
       "      <th>term</th>\n",
       "      <th>int_rate</th>\n",
       "      <th>installment</th>\n",
       "      <th>grade</th>\n",
       "      <th>sub_grade</th>\n",
       "      <th>...</th>\n",
       "      <th>policy_code</th>\n",
       "      <th>application_type</th>\n",
       "      <th>acc_now_delinq</th>\n",
       "      <th>chargeoff_within_12_mths</th>\n",
       "      <th>delinq_amnt</th>\n",
       "      <th>pub_rec_bankruptcies</th>\n",
       "      <th>tax_liens</th>\n",
       "      <th>int_rate_num</th>\n",
       "      <th>int_rate_bucket</th>\n",
       "      <th>loan_amnt_bucket</th>\n",
       "    </tr>\n",
       "  </thead>\n",
       "  <tbody>\n",
       "    <tr>\n",
       "      <th>0</th>\n",
       "      <td>1077501</td>\n",
       "      <td>1296599</td>\n",
       "      <td>5000</td>\n",
       "      <td>5000</td>\n",
       "      <td>4975.0</td>\n",
       "      <td>36 months</td>\n",
       "      <td>10.65%</td>\n",
       "      <td>162.87</td>\n",
       "      <td>B</td>\n",
       "      <td>B2</td>\n",
       "      <td>...</td>\n",
       "      <td>1</td>\n",
       "      <td>INDIVIDUAL</td>\n",
       "      <td>0</td>\n",
       "      <td>0.0</td>\n",
       "      <td>0</td>\n",
       "      <td>0.0</td>\n",
       "      <td>0.0</td>\n",
       "      <td>10.65</td>\n",
       "      <td>10-15</td>\n",
       "      <td>0-5K</td>\n",
       "    </tr>\n",
       "    <tr>\n",
       "      <th>1</th>\n",
       "      <td>1077430</td>\n",
       "      <td>1314167</td>\n",
       "      <td>2500</td>\n",
       "      <td>2500</td>\n",
       "      <td>2500.0</td>\n",
       "      <td>60 months</td>\n",
       "      <td>15.27%</td>\n",
       "      <td>59.83</td>\n",
       "      <td>C</td>\n",
       "      <td>C4</td>\n",
       "      <td>...</td>\n",
       "      <td>1</td>\n",
       "      <td>INDIVIDUAL</td>\n",
       "      <td>0</td>\n",
       "      <td>0.0</td>\n",
       "      <td>0</td>\n",
       "      <td>0.0</td>\n",
       "      <td>0.0</td>\n",
       "      <td>15.27</td>\n",
       "      <td>15-20</td>\n",
       "      <td>0-5K</td>\n",
       "    </tr>\n",
       "    <tr>\n",
       "      <th>2</th>\n",
       "      <td>1077175</td>\n",
       "      <td>1313524</td>\n",
       "      <td>2400</td>\n",
       "      <td>2400</td>\n",
       "      <td>2400.0</td>\n",
       "      <td>36 months</td>\n",
       "      <td>15.96%</td>\n",
       "      <td>84.33</td>\n",
       "      <td>C</td>\n",
       "      <td>C5</td>\n",
       "      <td>...</td>\n",
       "      <td>1</td>\n",
       "      <td>INDIVIDUAL</td>\n",
       "      <td>0</td>\n",
       "      <td>0.0</td>\n",
       "      <td>0</td>\n",
       "      <td>0.0</td>\n",
       "      <td>0.0</td>\n",
       "      <td>15.96</td>\n",
       "      <td>15-20</td>\n",
       "      <td>0-5K</td>\n",
       "    </tr>\n",
       "    <tr>\n",
       "      <th>3</th>\n",
       "      <td>1076863</td>\n",
       "      <td>1277178</td>\n",
       "      <td>10000</td>\n",
       "      <td>10000</td>\n",
       "      <td>10000.0</td>\n",
       "      <td>36 months</td>\n",
       "      <td>13.49%</td>\n",
       "      <td>339.31</td>\n",
       "      <td>C</td>\n",
       "      <td>C1</td>\n",
       "      <td>...</td>\n",
       "      <td>1</td>\n",
       "      <td>INDIVIDUAL</td>\n",
       "      <td>0</td>\n",
       "      <td>0.0</td>\n",
       "      <td>0</td>\n",
       "      <td>0.0</td>\n",
       "      <td>0.0</td>\n",
       "      <td>13.49</td>\n",
       "      <td>10-15</td>\n",
       "      <td>5K-10K</td>\n",
       "    </tr>\n",
       "    <tr>\n",
       "      <th>4</th>\n",
       "      <td>1075358</td>\n",
       "      <td>1311748</td>\n",
       "      <td>3000</td>\n",
       "      <td>3000</td>\n",
       "      <td>3000.0</td>\n",
       "      <td>60 months</td>\n",
       "      <td>12.69%</td>\n",
       "      <td>67.79</td>\n",
       "      <td>B</td>\n",
       "      <td>B5</td>\n",
       "      <td>...</td>\n",
       "      <td>1</td>\n",
       "      <td>INDIVIDUAL</td>\n",
       "      <td>0</td>\n",
       "      <td>0.0</td>\n",
       "      <td>0</td>\n",
       "      <td>0.0</td>\n",
       "      <td>0.0</td>\n",
       "      <td>12.69</td>\n",
       "      <td>10-15</td>\n",
       "      <td>0-5K</td>\n",
       "    </tr>\n",
       "  </tbody>\n",
       "</table>\n",
       "<p>5 rows × 57 columns</p>\n",
       "</div>"
      ],
      "text/plain": [
       "        id  member_id  loan_amnt  funded_amnt  funded_amnt_inv        term  \\\n",
       "0  1077501    1296599       5000         5000           4975.0   36 months   \n",
       "1  1077430    1314167       2500         2500           2500.0   60 months   \n",
       "2  1077175    1313524       2400         2400           2400.0   36 months   \n",
       "3  1076863    1277178      10000        10000          10000.0   36 months   \n",
       "4  1075358    1311748       3000         3000           3000.0   60 months   \n",
       "\n",
       "  int_rate  installment grade sub_grade  ... policy_code application_type  \\\n",
       "0   10.65%       162.87     B        B2  ...           1       INDIVIDUAL   \n",
       "1   15.27%        59.83     C        C4  ...           1       INDIVIDUAL   \n",
       "2   15.96%        84.33     C        C5  ...           1       INDIVIDUAL   \n",
       "3   13.49%       339.31     C        C1  ...           1       INDIVIDUAL   \n",
       "4   12.69%        67.79     B        B5  ...           1       INDIVIDUAL   \n",
       "\n",
       "  acc_now_delinq  chargeoff_within_12_mths delinq_amnt pub_rec_bankruptcies  \\\n",
       "0              0                       0.0           0                  0.0   \n",
       "1              0                       0.0           0                  0.0   \n",
       "2              0                       0.0           0                  0.0   \n",
       "3              0                       0.0           0                  0.0   \n",
       "4              0                       0.0           0                  0.0   \n",
       "\n",
       "  tax_liens int_rate_num int_rate_bucket loan_amnt_bucket  \n",
       "0       0.0        10.65           10-15             0-5K  \n",
       "1       0.0        15.27           15-20             0-5K  \n",
       "2       0.0        15.96           15-20             0-5K  \n",
       "3       0.0        13.49           10-15           5K-10K  \n",
       "4       0.0        12.69           10-15             0-5K  \n",
       "\n",
       "[5 rows x 57 columns]"
      ]
     },
     "execution_count": 107,
     "metadata": {},
     "output_type": "execute_result"
    }
   ],
   "source": [
    "loan_data.head()"
   ]
  },
  {
   "cell_type": "code",
   "execution_count": 111,
   "id": "d440ffb5-08fd-4d96-9d8f-63f94d659f8f",
   "metadata": {},
   "outputs": [
    {
     "data": {
      "text/plain": [
       "(39717, 57)"
      ]
     },
     "execution_count": 111,
     "metadata": {},
     "output_type": "execute_result"
    }
   ],
   "source": [
    "loan_data.shape"
   ]
  },
  {
   "cell_type": "code",
   "execution_count": 113,
   "id": "4eaf49c3-f5a6-428c-9d62-9ab14f0a6836",
   "metadata": {},
   "outputs": [
    {
     "data": {
      "text/plain": [
       "<function matplotlib.pyplot.show(close=None, block=None)>"
      ]
     },
     "execution_count": 113,
     "metadata": {},
     "output_type": "execute_result"
    },
    {
     "data": {
      "image/png": "[encoded data removed]",
      "text/plain": [
       "<Figure size 640x480 with 1 Axes>"
      ]
     },
     "metadata": {},
     "output_type": "display_data"
    }
   ],
   "source": [
    "#checking for outliers in loan Amount\n",
    "plt.boxplot(loan_data.loan_amnt)\n",
    "plt.show"
   ]
  },
  {
   "cell_type": "code",
   "execution_count": 121,
   "id": "3a1ad892-8b72-4854-b619-97f31f5d4c07",
   "metadata": {},
   "outputs": [
    {
     "data": {
      "text/plain": [
       "(39717, 57)"
      ]
     },
     "execution_count": 121,
     "metadata": {},
     "output_type": "execute_result"
    }
   ],
   "source": [
    "loan_data.shape"
   ]
  },
  {
   "cell_type": "code",
   "execution_count": 139,
   "id": "5f4207a2-5d13-4929-aa93-ec003c56e849",
   "metadata": {},
   "outputs": [
    {
     "data": {
      "text/plain": [
       "(38491, 57)"
      ]
     },
     "execution_count": 139,
     "metadata": {},
     "output_type": "execute_result"
    }
   ],
   "source": [
    "loan_data = loan_data[loan_data.loan_amnt < 29500]\n",
    "loan_data.shape"
   ]
  },
  {
   "cell_type": "code",
   "execution_count": 141,
   "id": "3e7519c1-3e23-4704-9a28-ea8da1ce695c",
   "metadata": {},
   "outputs": [
    {
     "data": {
      "text/plain": [
       "<function matplotlib.pyplot.show(close=None, block=None)>"
      ]
     },
     "execution_count": 141,
     "metadata": {},
     "output_type": "execute_result"
    },
    {
     "data": {
      "image/png": "[encoded data removed]",
      "text/plain": [
       "<Figure size 640x480 with 1 Axes>"
      ]
     },
     "metadata": {},
     "output_type": "display_data"
    }
   ],
   "source": [
    "#checking for outliers in loan Amount\n",
    "plt.boxplot(loan_data.loan_amnt)\n",
    "plt.show"
   ]
  },
  {
   "cell_type": "code",
   "execution_count": 143,
   "id": "94efd3ef-f0b2-4c8d-96f2-3fe93bcad5b1",
   "metadata": {},
   "outputs": [
    {
     "data": {
      "text/plain": [
       "count    38491.000000\n",
       "mean     10523.702294\n",
       "std       6443.601034\n",
       "min        500.000000\n",
       "25%       5125.000000\n",
       "50%       9600.000000\n",
       "75%      15000.000000\n",
       "max      29375.000000\n",
       "Name: loan_amnt, dtype: float64"
      ]
     },
     "execution_count": 143,
     "metadata": {},
     "output_type": "execute_result"
    }
   ],
   "source": [
    "loan_data.loan_amnt.describe()"
   ]
  },
  {
   "cell_type": "code",
   "execution_count": 149,
   "id": "a4e6e75a-fe9c-4de5-be7a-60010d3a2b39",
   "metadata": {},
   "outputs": [
    {
     "data": {
      "image/png": "[encoded data removed]",
      "text/plain": [
       "<Figure size 640x480 with 1 Axes>"
      ]
     },
     "metadata": {},
     "output_type": "display_data"
    }
   ],
   "source": [
    "#checking for outliers in Anuual Income\n",
    "plt.boxplot(loan_data.annual_inc)\n",
    "plt.show()"
   ]
  },
  {
   "cell_type": "code",
   "execution_count": 151,
   "id": "1c8d5d63-7165-48ec-9f8c-90f1392aff7b",
   "metadata": {},
   "outputs": [
    {
     "data": {
      "text/plain": [
       "(38491,)"
      ]
     },
     "execution_count": 151,
     "metadata": {},
     "output_type": "execute_result"
    }
   ],
   "source": [
    "loan_data.annual_inc.shape"
   ]
  },
  {
   "cell_type": "code",
   "execution_count": 163,
   "id": "564a5be3-8838-4b2c-a96d-41efce3770c1",
   "metadata": {},
   "outputs": [
    {
     "data": {
      "text/plain": [
       "count      38,491.00\n",
       "mean       67,216.38\n",
       "std        62,505.15\n",
       "min         4,000.00\n",
       "25%        40,000.00\n",
       "50%        57,500.00\n",
       "75%        80,000.00\n",
       "max     6,000,000.00\n",
       "Name: annual_inc, dtype: float64"
      ]
     },
     "execution_count": 163,
     "metadata": {},
     "output_type": "execute_result"
    }
   ],
   "source": [
    "pd.options.display.float_format = '{:,.2f}'.format\n",
    "loan_data.annual_inc.describe()"
   ]
  },
  {
   "cell_type": "code",
   "execution_count": 173,
   "id": "d8dd3251-b3df-457f-975a-930b9674ee2f",
   "metadata": {},
   "outputs": [
    {
     "data": {
      "text/html": [
       "<div>\n",
       "<style scoped>\n",
       "    .dataframe tbody tr th:only-of-type {\n",
       "        vertical-align: middle;\n",
       "    }\n",
       "\n",
       "    .dataframe tbody tr th {\n",
       "        vertical-align: top;\n",
       "    }\n",
       "\n",
       "    .dataframe thead th {\n",
       "        text-align: right;\n",
       "    }\n",
       "</style>\n",
       "<table border=\"1\" class=\"dataframe\">\n",
       "  <thead>\n",
       "    <tr style=\"text-align: right;\">\n",
       "      <th></th>\n",
       "      <th>id</th>\n",
       "      <th>member_id</th>\n",
       "      <th>loan_amnt</th>\n",
       "      <th>funded_amnt</th>\n",
       "      <th>funded_amnt_inv</th>\n",
       "      <th>term</th>\n",
       "      <th>int_rate</th>\n",
       "      <th>installment</th>\n",
       "      <th>grade</th>\n",
       "      <th>sub_grade</th>\n",
       "      <th>...</th>\n",
       "      <th>policy_code</th>\n",
       "      <th>application_type</th>\n",
       "      <th>acc_now_delinq</th>\n",
       "      <th>chargeoff_within_12_mths</th>\n",
       "      <th>delinq_amnt</th>\n",
       "      <th>pub_rec_bankruptcies</th>\n",
       "      <th>tax_liens</th>\n",
       "      <th>int_rate_num</th>\n",
       "      <th>int_rate_bucket</th>\n",
       "      <th>loan_amnt_bucket</th>\n",
       "    </tr>\n",
       "  </thead>\n",
       "  <tbody>\n",
       "    <tr>\n",
       "      <th>7247</th>\n",
       "      <td>884755</td>\n",
       "      <td>1100269</td>\n",
       "      <td>12025</td>\n",
       "      <td>12025</td>\n",
       "      <td>12,000.00</td>\n",
       "      <td>36 months</td>\n",
       "      <td>14.27%</td>\n",
       "      <td>412.57</td>\n",
       "      <td>C</td>\n",
       "      <td>C2</td>\n",
       "      <td>...</td>\n",
       "      <td>1</td>\n",
       "      <td>INDIVIDUAL</td>\n",
       "      <td>0</td>\n",
       "      <td>0.00</td>\n",
       "      <td>0</td>\n",
       "      <td>0.00</td>\n",
       "      <td>0.00</td>\n",
       "      <td>14.27</td>\n",
       "      <td>10-15</td>\n",
       "      <td>10K-15K</td>\n",
       "    </tr>\n",
       "    <tr>\n",
       "      <th>10621</th>\n",
       "      <td>830027</td>\n",
       "      <td>1039166</td>\n",
       "      <td>15775</td>\n",
       "      <td>15775</td>\n",
       "      <td>15,750.00</td>\n",
       "      <td>60 months</td>\n",
       "      <td>12.99%</td>\n",
       "      <td>358.85</td>\n",
       "      <td>C</td>\n",
       "      <td>C1</td>\n",
       "      <td>...</td>\n",
       "      <td>1</td>\n",
       "      <td>INDIVIDUAL</td>\n",
       "      <td>0</td>\n",
       "      <td>0.00</td>\n",
       "      <td>0</td>\n",
       "      <td>0.00</td>\n",
       "      <td>0.00</td>\n",
       "      <td>12.99</td>\n",
       "      <td>10-15</td>\n",
       "      <td>15K-20K</td>\n",
       "    </tr>\n",
       "    <tr>\n",
       "      <th>21412</th>\n",
       "      <td>643368</td>\n",
       "      <td>823374</td>\n",
       "      <td>10000</td>\n",
       "      <td>10000</td>\n",
       "      <td>9,500.00</td>\n",
       "      <td>36 months</td>\n",
       "      <td>6.54%</td>\n",
       "      <td>306.68</td>\n",
       "      <td>A</td>\n",
       "      <td>A4</td>\n",
       "      <td>...</td>\n",
       "      <td>1</td>\n",
       "      <td>INDIVIDUAL</td>\n",
       "      <td>0</td>\n",
       "      <td>0.00</td>\n",
       "      <td>0</td>\n",
       "      <td>0.00</td>\n",
       "      <td>0.00</td>\n",
       "      <td>6.54</td>\n",
       "      <td>5-10</td>\n",
       "      <td>5K-10K</td>\n",
       "    </tr>\n",
       "    <tr>\n",
       "      <th>23551</th>\n",
       "      <td>611872</td>\n",
       "      <td>784585</td>\n",
       "      <td>1500</td>\n",
       "      <td>1500</td>\n",
       "      <td>1,500.00</td>\n",
       "      <td>36 months</td>\n",
       "      <td>6.17%</td>\n",
       "      <td>45.75</td>\n",
       "      <td>A</td>\n",
       "      <td>A3</td>\n",
       "      <td>...</td>\n",
       "      <td>1</td>\n",
       "      <td>INDIVIDUAL</td>\n",
       "      <td>0</td>\n",
       "      <td>0.00</td>\n",
       "      <td>0</td>\n",
       "      <td>0.00</td>\n",
       "      <td>0.00</td>\n",
       "      <td>6.17</td>\n",
       "      <td>5-10</td>\n",
       "      <td>0-5K</td>\n",
       "    </tr>\n",
       "    <tr>\n",
       "      <th>24166</th>\n",
       "      <td>603818</td>\n",
       "      <td>774761</td>\n",
       "      <td>25000</td>\n",
       "      <td>25000</td>\n",
       "      <td>24,493.46</td>\n",
       "      <td>60 months</td>\n",
       "      <td>15.20%</td>\n",
       "      <td>597.38</td>\n",
       "      <td>D</td>\n",
       "      <td>D4</td>\n",
       "      <td>...</td>\n",
       "      <td>1</td>\n",
       "      <td>INDIVIDUAL</td>\n",
       "      <td>0</td>\n",
       "      <td>0.00</td>\n",
       "      <td>0</td>\n",
       "      <td>0.00</td>\n",
       "      <td>0.00</td>\n",
       "      <td>15.20</td>\n",
       "      <td>15-20</td>\n",
       "      <td>20K-25K</td>\n",
       "    </tr>\n",
       "    <tr>\n",
       "      <th>25762</th>\n",
       "      <td>572697</td>\n",
       "      <td>736657</td>\n",
       "      <td>12000</td>\n",
       "      <td>12000</td>\n",
       "      <td>12,000.00</td>\n",
       "      <td>36 months</td>\n",
       "      <td>7.51%</td>\n",
       "      <td>373.33</td>\n",
       "      <td>A</td>\n",
       "      <td>A4</td>\n",
       "      <td>...</td>\n",
       "      <td>1</td>\n",
       "      <td>INDIVIDUAL</td>\n",
       "      <td>0</td>\n",
       "      <td>0.00</td>\n",
       "      <td>0</td>\n",
       "      <td>0.00</td>\n",
       "      <td>0.00</td>\n",
       "      <td>7.51</td>\n",
       "      <td>5-10</td>\n",
       "      <td>10K-15K</td>\n",
       "    </tr>\n",
       "    <tr>\n",
       "      <th>27564</th>\n",
       "      <td>551367</td>\n",
       "      <td>710553</td>\n",
       "      <td>5600</td>\n",
       "      <td>5600</td>\n",
       "      <td>5,600.00</td>\n",
       "      <td>60 months</td>\n",
       "      <td>13.61%</td>\n",
       "      <td>129.18</td>\n",
       "      <td>C</td>\n",
       "      <td>C2</td>\n",
       "      <td>...</td>\n",
       "      <td>1</td>\n",
       "      <td>INDIVIDUAL</td>\n",
       "      <td>0</td>\n",
       "      <td>0.00</td>\n",
       "      <td>0</td>\n",
       "      <td>0.00</td>\n",
       "      <td>0.00</td>\n",
       "      <td>13.61</td>\n",
       "      <td>10-15</td>\n",
       "      <td>5K-10K</td>\n",
       "    </tr>\n",
       "    <tr>\n",
       "      <th>28906</th>\n",
       "      <td>528009</td>\n",
       "      <td>682915</td>\n",
       "      <td>4500</td>\n",
       "      <td>4500</td>\n",
       "      <td>4,500.00</td>\n",
       "      <td>60 months</td>\n",
       "      <td>7.88%</td>\n",
       "      <td>90.99</td>\n",
       "      <td>A</td>\n",
       "      <td>A5</td>\n",
       "      <td>...</td>\n",
       "      <td>1</td>\n",
       "      <td>INDIVIDUAL</td>\n",
       "      <td>0</td>\n",
       "      <td>0.00</td>\n",
       "      <td>0</td>\n",
       "      <td>0.00</td>\n",
       "      <td>0.00</td>\n",
       "      <td>7.88</td>\n",
       "      <td>5-10</td>\n",
       "      <td>0-5K</td>\n",
       "    </tr>\n",
       "    <tr>\n",
       "      <th>29639</th>\n",
       "      <td>519954</td>\n",
       "      <td>672152</td>\n",
       "      <td>25000</td>\n",
       "      <td>15500</td>\n",
       "      <td>11,430.00</td>\n",
       "      <td>60 months</td>\n",
       "      <td>10.62%</td>\n",
       "      <td>334.08</td>\n",
       "      <td>B</td>\n",
       "      <td>B3</td>\n",
       "      <td>...</td>\n",
       "      <td>1</td>\n",
       "      <td>INDIVIDUAL</td>\n",
       "      <td>0</td>\n",
       "      <td>0.00</td>\n",
       "      <td>0</td>\n",
       "      <td>0.00</td>\n",
       "      <td>0.00</td>\n",
       "      <td>10.62</td>\n",
       "      <td>10-15</td>\n",
       "      <td>20K-25K</td>\n",
       "    </tr>\n",
       "    <tr>\n",
       "      <th>30107</th>\n",
       "      <td>513542</td>\n",
       "      <td>663575</td>\n",
       "      <td>5000</td>\n",
       "      <td>5000</td>\n",
       "      <td>5,000.00</td>\n",
       "      <td>36 months</td>\n",
       "      <td>12.73%</td>\n",
       "      <td>167.84</td>\n",
       "      <td>C</td>\n",
       "      <td>C1</td>\n",
       "      <td>...</td>\n",
       "      <td>1</td>\n",
       "      <td>INDIVIDUAL</td>\n",
       "      <td>0</td>\n",
       "      <td>0.00</td>\n",
       "      <td>0</td>\n",
       "      <td>0.00</td>\n",
       "      <td>0.00</td>\n",
       "      <td>12.73</td>\n",
       "      <td>10-15</td>\n",
       "      <td>0-5K</td>\n",
       "    </tr>\n",
       "    <tr>\n",
       "      <th>33432</th>\n",
       "      <td>468400</td>\n",
       "      <td>589879</td>\n",
       "      <td>10000</td>\n",
       "      <td>10000</td>\n",
       "      <td>9,650.00</td>\n",
       "      <td>36 months</td>\n",
       "      <td>7.74%</td>\n",
       "      <td>312.19</td>\n",
       "      <td>A</td>\n",
       "      <td>A3</td>\n",
       "      <td>...</td>\n",
       "      <td>1</td>\n",
       "      <td>INDIVIDUAL</td>\n",
       "      <td>0</td>\n",
       "      <td>0.00</td>\n",
       "      <td>0</td>\n",
       "      <td>0.00</td>\n",
       "      <td>0.00</td>\n",
       "      <td>7.74</td>\n",
       "      <td>5-10</td>\n",
       "      <td>5K-10K</td>\n",
       "    </tr>\n",
       "    <tr>\n",
       "      <th>33982</th>\n",
       "      <td>458760</td>\n",
       "      <td>571287</td>\n",
       "      <td>6400</td>\n",
       "      <td>6400</td>\n",
       "      <td>6,300.00</td>\n",
       "      <td>36 months</td>\n",
       "      <td>7.40%</td>\n",
       "      <td>198.78</td>\n",
       "      <td>A</td>\n",
       "      <td>A2</td>\n",
       "      <td>...</td>\n",
       "      <td>1</td>\n",
       "      <td>INDIVIDUAL</td>\n",
       "      <td>0</td>\n",
       "      <td>0.00</td>\n",
       "      <td>0</td>\n",
       "      <td>0.00</td>\n",
       "      <td>0.00</td>\n",
       "      <td>7.40</td>\n",
       "      <td>5-10</td>\n",
       "      <td>5K-10K</td>\n",
       "    </tr>\n",
       "    <tr>\n",
       "      <th>34304</th>\n",
       "      <td>453667</td>\n",
       "      <td>561049</td>\n",
       "      <td>6600</td>\n",
       "      <td>6600</td>\n",
       "      <td>6,600.00</td>\n",
       "      <td>36 months</td>\n",
       "      <td>7.74%</td>\n",
       "      <td>206.05</td>\n",
       "      <td>A</td>\n",
       "      <td>A3</td>\n",
       "      <td>...</td>\n",
       "      <td>1</td>\n",
       "      <td>INDIVIDUAL</td>\n",
       "      <td>0</td>\n",
       "      <td>0.00</td>\n",
       "      <td>0</td>\n",
       "      <td>0.00</td>\n",
       "      <td>0.00</td>\n",
       "      <td>7.74</td>\n",
       "      <td>5-10</td>\n",
       "      <td>5K-10K</td>\n",
       "    </tr>\n",
       "    <tr>\n",
       "      <th>39089</th>\n",
       "      <td>269818</td>\n",
       "      <td>267741</td>\n",
       "      <td>8450</td>\n",
       "      <td>8450</td>\n",
       "      <td>3,747.00</td>\n",
       "      <td>36 months</td>\n",
       "      <td>12.29%</td>\n",
       "      <td>281.84</td>\n",
       "      <td>C</td>\n",
       "      <td>C5</td>\n",
       "      <td>...</td>\n",
       "      <td>1</td>\n",
       "      <td>INDIVIDUAL</td>\n",
       "      <td>0</td>\n",
       "      <td>0.00</td>\n",
       "      <td>0</td>\n",
       "      <td>NaN</td>\n",
       "      <td>0.00</td>\n",
       "      <td>12.29</td>\n",
       "      <td>10-15</td>\n",
       "      <td>5K-10K</td>\n",
       "    </tr>\n",
       "  </tbody>\n",
       "</table>\n",
       "<p>14 rows × 57 columns</p>\n",
       "</div>"
      ],
      "text/plain": [
       "           id  member_id  loan_amnt  funded_amnt  funded_amnt_inv        term  \\\n",
       "7247   884755    1100269      12025        12025        12,000.00   36 months   \n",
       "10621  830027    1039166      15775        15775        15,750.00   60 months   \n",
       "21412  643368     823374      10000        10000         9,500.00   36 months   \n",
       "23551  611872     784585       1500         1500         1,500.00   36 months   \n",
       "24166  603818     774761      25000        25000        24,493.46   60 months   \n",
       "25762  572697     736657      12000        12000        12,000.00   36 months   \n",
       "27564  551367     710553       5600         5600         5,600.00   60 months   \n",
       "28906  528009     682915       4500         4500         4,500.00   60 months   \n",
       "29639  519954     672152      25000        15500        11,430.00   60 months   \n",
       "30107  513542     663575       5000         5000         5,000.00   36 months   \n",
       "33432  468400     589879      10000        10000         9,650.00   36 months   \n",
       "33982  458760     571287       6400         6400         6,300.00   36 months   \n",
       "34304  453667     561049       6600         6600         6,600.00   36 months   \n",
       "39089  269818     267741       8450         8450         3,747.00   36 months   \n",
       "\n",
       "      int_rate  installment grade sub_grade  ... policy_code application_type  \\\n",
       "7247    14.27%       412.57     C        C2  ...           1       INDIVIDUAL   \n",
       "10621   12.99%       358.85     C        C1  ...           1       INDIVIDUAL   \n",
       "21412    6.54%       306.68     A        A4  ...           1       INDIVIDUAL   \n",
       "23551    6.17%        45.75     A        A3  ...           1       INDIVIDUAL   \n",
       "24166   15.20%       597.38     D        D4  ...           1       INDIVIDUAL   \n",
       "25762    7.51%       373.33     A        A4  ...           1       INDIVIDUAL   \n",
       "27564   13.61%       129.18     C        C2  ...           1       INDIVIDUAL   \n",
       "28906    7.88%        90.99     A        A5  ...           1       INDIVIDUAL   \n",
       "29639   10.62%       334.08     B        B3  ...           1       INDIVIDUAL   \n",
       "30107   12.73%       167.84     C        C1  ...           1       INDIVIDUAL   \n",
       "33432    7.74%       312.19     A        A3  ...           1       INDIVIDUAL   \n",
       "33982    7.40%       198.78     A        A2  ...           1       INDIVIDUAL   \n",
       "34304    7.74%       206.05     A        A3  ...           1       INDIVIDUAL   \n",
       "39089   12.29%       281.84     C        C5  ...           1       INDIVIDUAL   \n",
       "\n",
       "      acc_now_delinq  chargeoff_within_12_mths delinq_amnt  \\\n",
       "7247               0                      0.00           0   \n",
       "10621              0                      0.00           0   \n",
       "21412              0                      0.00           0   \n",
       "23551              0                      0.00           0   \n",
       "24166              0                      0.00           0   \n",
       "25762              0                      0.00           0   \n",
       "27564              0                      0.00           0   \n",
       "28906              0                      0.00           0   \n",
       "29639              0                      0.00           0   \n",
       "30107              0                      0.00           0   \n",
       "33432              0                      0.00           0   \n",
       "33982              0                      0.00           0   \n",
       "34304              0                      0.00           0   \n",
       "39089              0                      0.00           0   \n",
       "\n",
       "      pub_rec_bankruptcies tax_liens int_rate_num int_rate_bucket  \\\n",
       "7247                  0.00      0.00        14.27           10-15   \n",
       "10621                 0.00      0.00        12.99           10-15   \n",
       "21412                 0.00      0.00         6.54            5-10   \n",
       "23551                 0.00      0.00         6.17            5-10   \n",
       "24166                 0.00      0.00        15.20           15-20   \n",
       "25762                 0.00      0.00         7.51            5-10   \n",
       "27564                 0.00      0.00        13.61           10-15   \n",
       "28906                 0.00      0.00         7.88            5-10   \n",
       "29639                 0.00      0.00        10.62           10-15   \n",
       "30107                 0.00      0.00        12.73           10-15   \n",
       "33432                 0.00      0.00         7.74            5-10   \n",
       "33982                 0.00      0.00         7.40            5-10   \n",
       "34304                 0.00      0.00         7.74            5-10   \n",
       "39089                  NaN      0.00        12.29           10-15   \n",
       "\n",
       "      loan_amnt_bucket  \n",
       "7247           10K-15K  \n",
       "10621          15K-20K  \n",
       "21412           5K-10K  \n",
       "23551             0-5K  \n",
       "24166          20K-25K  \n",
       "25762          10K-15K  \n",
       "27564           5K-10K  \n",
       "28906             0-5K  \n",
       "29639          20K-25K  \n",
       "30107             0-5K  \n",
       "33432           5K-10K  \n",
       "33982           5K-10K  \n",
       "34304           5K-10K  \n",
       "39089           5K-10K  \n",
       "\n",
       "[14 rows x 57 columns]"
      ]
     },
     "execution_count": 173,
     "metadata": {},
     "output_type": "execute_result"
    }
   ],
   "source": [
    "loan_data[loan_data.annual_inc > 1000000]"
   ]
  },
  {
   "cell_type": "code",
   "execution_count": 201,
   "id": "d526f969-e61d-423c-9059-9f035463ae04",
   "metadata": {},
   "outputs": [],
   "source": [
    "loan_data = loan_data[loan_data.annual_inc < 120000]"
   ]
  },
  {
   "cell_type": "code",
   "execution_count": 203,
   "id": "7820c0af-d979-476c-bf7b-051d29d429e1",
   "metadata": {},
   "outputs": [
    {
     "data": {
      "image/png": "[encoded data removed]",
      "text/plain": [
       "<Figure size 640x480 with 1 Axes>"
      ]
     },
     "metadata": {},
     "output_type": "display_data"
    }
   ],
   "source": [
    "#checking for outliers in Anuual Income\n",
    "plt.boxplot(loan_data.annual_inc)\n",
    "plt.show()"
   ]
  },
  {
   "cell_type": "code",
   "execution_count": 205,
   "id": "d8a9f443-2bf2-4e33-95e5-073b8f5002d8",
   "metadata": {},
   "outputs": [
    {
     "data": {
      "text/plain": [
       "(35194, 57)"
      ]
     },
     "execution_count": 205,
     "metadata": {},
     "output_type": "execute_result"
    }
   ],
   "source": [
    "loan_data.shape"
   ]
  },
  {
   "cell_type": "code",
   "execution_count": 211,
   "id": "0685669f-c951-498e-bc61-f52822c1f285",
   "metadata": {},
   "outputs": [
    {
     "data": {
      "text/plain": [
       "annual_inc\n",
       "60,000.00    1482\n",
       "50,000.00    1055\n",
       "40,000.00     876\n",
       "45,000.00     828\n",
       "30,000.00     825\n",
       "             ... \n",
       "63,360.00       1\n",
       "16,884.00       1\n",
       "61,838.40       1\n",
       "57,739.00       1\n",
       "27,376.00       1\n",
       "Name: count, Length: 4629, dtype: int64"
      ]
     },
     "execution_count": 211,
     "metadata": {},
     "output_type": "execute_result"
    }
   ],
   "source": [
    "loan_data.annual_inc.value_counts()"
   ]
  },
  {
   "cell_type": "code",
   "execution_count": 213,
   "id": "d1e71179-63d6-4e2b-9d7a-b9d046d6a256",
   "metadata": {},
   "outputs": [
    {
     "data": {
      "text/plain": [
       "count    35,194.00\n",
       "mean     57,160.36\n",
       "std      23,807.09\n",
       "min       4,000.00\n",
       "25%      39,562.50\n",
       "50%      54,000.00\n",
       "75%      73,000.00\n",
       "max     119,976.00\n",
       "Name: annual_inc, dtype: float64"
      ]
     },
     "execution_count": 213,
     "metadata": {},
     "output_type": "execute_result"
    }
   ],
   "source": [
    "loan_data.annual_inc.describe()"
   ]
  },
  {
   "cell_type": "code",
   "execution_count": 215,
   "id": "20d05500-e130-4747-bd9a-52bd061e83bc",
   "metadata": {},
   "outputs": [
    {
     "data": {
      "text/html": [
       "<div>\n",
       "<style scoped>\n",
       "    .dataframe tbody tr th:only-of-type {\n",
       "        vertical-align: middle;\n",
       "    }\n",
       "\n",
       "    .dataframe tbody tr th {\n",
       "        vertical-align: top;\n",
       "    }\n",
       "\n",
       "    .dataframe thead th {\n",
       "        text-align: right;\n",
       "    }\n",
       "</style>\n",
       "<table border=\"1\" class=\"dataframe\">\n",
       "  <thead>\n",
       "    <tr style=\"text-align: right;\">\n",
       "      <th></th>\n",
       "      <th>annual_inc</th>\n",
       "      <th>annual_inc_bucket</th>\n",
       "    </tr>\n",
       "  </thead>\n",
       "  <tbody>\n",
       "    <tr>\n",
       "      <th>0</th>\n",
       "      <td>24,000.00</td>\n",
       "      <td>20000-40000</td>\n",
       "    </tr>\n",
       "    <tr>\n",
       "      <th>1</th>\n",
       "      <td>30,000.00</td>\n",
       "      <td>20000-40000</td>\n",
       "    </tr>\n",
       "    <tr>\n",
       "      <th>2</th>\n",
       "      <td>12,252.00</td>\n",
       "      <td>0-20000</td>\n",
       "    </tr>\n",
       "    <tr>\n",
       "      <th>3</th>\n",
       "      <td>49,200.00</td>\n",
       "      <td>40000-60000</td>\n",
       "    </tr>\n",
       "    <tr>\n",
       "      <th>4</th>\n",
       "      <td>80,000.00</td>\n",
       "      <td>80000-100000</td>\n",
       "    </tr>\n",
       "  </tbody>\n",
       "</table>\n",
       "</div>"
      ],
      "text/plain": [
       "   annual_inc annual_inc_bucket\n",
       "0   24,000.00       20000-40000\n",
       "1   30,000.00       20000-40000\n",
       "2   12,252.00           0-20000\n",
       "3   49,200.00       40000-60000\n",
       "4   80,000.00      80000-100000"
      ]
     },
     "execution_count": 215,
     "metadata": {},
     "output_type": "execute_result"
    }
   ],
   "source": [
    "# Creating buckets for annual income\n",
    "# Define bins and labels for bucketing\n",
    "bins = [0, 20000, 40000, 60000, 80000, 100000, 200000] # bin edges\n",
    "labels = ['0-20000', '20000-40000', '40000-60000', '60000-80000', '80000-100000', '100000-200000'] # Bucket labels\n",
    "\n",
    "# Create the bucketized column\n",
    "loan_data['annual_inc_bucket'] = pd.cut(loan_data['annual_inc'], bins=bins, labels=labels, right=False)\n",
    "# Display the first few rows to verify\n",
    "loan_data[['annual_inc', 'annual_inc_bucket']].head()"
   ]
  },
  {
   "cell_type": "code",
   "execution_count": 217,
   "id": "478f1523-d4a2-4bb5-bf29-c7c5c5e38831",
   "metadata": {},
   "outputs": [
    {
     "data": {
      "text/plain": [
       "annual_inc_bucket\n",
       "40000-60000      10934\n",
       "60000-80000       8457\n",
       "20000-40000       7934\n",
       "80000-100000      4568\n",
       "100000-200000     2235\n",
       "0-20000           1066\n",
       "Name: count, dtype: int64"
      ]
     },
     "execution_count": 217,
     "metadata": {},
     "output_type": "execute_result"
    }
   ],
   "source": [
    "loan_data.annual_inc_bucket.value_counts()"
   ]
  },
  {
   "cell_type": "code",
   "execution_count": 219,
   "id": "ea8bf23d-4860-4096-af0c-b77cd93d02a9",
   "metadata": {},
   "outputs": [
    {
     "data": {
      "text/plain": [
       "(35194, 58)"
      ]
     },
     "execution_count": 219,
     "metadata": {},
     "output_type": "execute_result"
    }
   ],
   "source": [
    "loan_data.shape"
   ]
  },
  {
   "cell_type": "code",
   "execution_count": 221,
   "id": "0b3f17cb-f60e-4afd-bec7-d96c74042e11",
   "metadata": {},
   "outputs": [
    {
     "data": {
      "text/html": [
       "<div>\n",
       "<style scoped>\n",
       "    .dataframe tbody tr th:only-of-type {\n",
       "        vertical-align: middle;\n",
       "    }\n",
       "\n",
       "    .dataframe tbody tr th {\n",
       "        vertical-align: top;\n",
       "    }\n",
       "\n",
       "    .dataframe thead th {\n",
       "        text-align: right;\n",
       "    }\n",
       "</style>\n",
       "<table border=\"1\" class=\"dataframe\">\n",
       "  <thead>\n",
       "    <tr style=\"text-align: right;\">\n",
       "      <th></th>\n",
       "      <th>dti</th>\n",
       "      <th>dti_bucket</th>\n",
       "    </tr>\n",
       "  </thead>\n",
       "  <tbody>\n",
       "    <tr>\n",
       "      <th>0</th>\n",
       "      <td>27.65</td>\n",
       "      <td>26-28</td>\n",
       "    </tr>\n",
       "    <tr>\n",
       "      <th>1</th>\n",
       "      <td>1.00</td>\n",
       "      <td>0-2</td>\n",
       "    </tr>\n",
       "    <tr>\n",
       "      <th>2</th>\n",
       "      <td>8.72</td>\n",
       "      <td>8-10</td>\n",
       "    </tr>\n",
       "    <tr>\n",
       "      <th>3</th>\n",
       "      <td>20.00</td>\n",
       "      <td>20-22</td>\n",
       "    </tr>\n",
       "    <tr>\n",
       "      <th>4</th>\n",
       "      <td>17.94</td>\n",
       "      <td>16-18</td>\n",
       "    </tr>\n",
       "  </tbody>\n",
       "</table>\n",
       "</div>"
      ],
      "text/plain": [
       "    dti dti_bucket\n",
       "0 27.65      26-28\n",
       "1  1.00        0-2\n",
       "2  8.72       8-10\n",
       "3 20.00      20-22\n",
       "4 17.94      16-18"
      ]
     },
     "execution_count": 221,
     "metadata": {},
     "output_type": "execute_result"
    }
   ],
   "source": [
    "# Define bins and labels for bucketing of DTI\n",
    "bins = [0, 2, 4, 6, 8, 10, 12, 14, 16, 18, 20, 22, 24, 26, 28, 30] # bin edges\n",
    "labels = ['0-2', '2-4', '4-6', '6-8', '8-10', '10-12', '12-14', '14-16', '16-18', '18-20', '20-22', '22-24', '24-26', '26-28', '28-30'] # Bucket labels\n",
    "\n",
    "# Create the bucketized column\n",
    "loan_data['dti_bucket'] = pd.cut(loan_data['dti'], bins=bins, labels=labels, right=False)\n",
    "# Display the first few rows to verify\n",
    "loan_data[['dti','dti_bucket']].head()"
   ]
  },
  {
   "cell_type": "code",
   "execution_count": 227,
   "id": "08cf9cc2-6294-4a98-b56d-1ed85110159c",
   "metadata": {},
   "outputs": [
    {
     "data": {
      "text/plain": [
       "int_rate_bucket\n",
       "10-15    17064\n",
       "5-10     11093\n",
       "15-20     6469\n",
       "20-25      568\n",
       "0-5          0\n",
       "Name: count, dtype: int64"
      ]
     },
     "execution_count": 227,
     "metadata": {},
     "output_type": "execute_result"
    }
   ],
   "source": [
    "# Exploring int_rate column\n",
    "loan_data.int_rate_bucket.value_counts()"
   ]
  },
  {
   "cell_type": "code",
   "execution_count": 229,
   "id": "85d6d9a9-742a-4b8e-a05a-2c8e9d2c0eec",
   "metadata": {},
   "outputs": [
    {
     "data": {
      "text/plain": [
       "(35194, 59)"
      ]
     },
     "execution_count": 229,
     "metadata": {},
     "output_type": "execute_result"
    }
   ],
   "source": [
    "loan_data.shape"
   ]
  },
  {
   "cell_type": "code",
   "execution_count": 231,
   "id": "2ae08010-19ef-433a-b918-4854cf99e7db",
   "metadata": {},
   "outputs": [
    {
     "data": {
      "text/plain": [
       "0"
      ]
     },
     "execution_count": 231,
     "metadata": {},
     "output_type": "execute_result"
    }
   ],
   "source": [
    "loan_data.int_rate_bucket.isnull().sum()"
   ]
  },
  {
   "cell_type": "code",
   "execution_count": 233,
   "id": "ad0745fa-e802-479f-883b-039178ce41db",
   "metadata": {},
   "outputs": [],
   "source": [
    "# No null values in int_rate_bucket column"
   ]
  },
  {
   "cell_type": "code",
   "execution_count": 239,
   "id": "b284a923-d256-4459-8dd7-ea8e7b0c109e",
   "metadata": {},
   "outputs": [
    {
     "data": {
      "text/plain": [
       "grade\n",
       "B    10769\n",
       "A     9226\n",
       "C     7275\n",
       "D     4679\n",
       "E     2252\n",
       "F      777\n",
       "G      216\n",
       "Name: count, dtype: int64"
      ]
     },
     "execution_count": 239,
     "metadata": {},
     "output_type": "execute_result"
    }
   ],
   "source": [
    "# Exploring grade column\n",
    "loan_data.grade.value_counts()"
   ]
  },
  {
   "cell_type": "code",
   "execution_count": 243,
   "id": "13ce5229-c2ea-4377-aed7-64547aa7eaac",
   "metadata": {},
   "outputs": [
    {
     "data": {
      "text/plain": [
       "0"
      ]
     },
     "execution_count": 243,
     "metadata": {},
     "output_type": "execute_result"
    }
   ],
   "source": [
    "loan_data.grade.isnull().sum()"
   ]
  },
  {
   "cell_type": "code",
   "execution_count": 237,
   "id": "580c4391-0594-4dd6-97f8-f7ab587b3f7a",
   "metadata": {},
   "outputs": [
    {
     "data": {
      "text/plain": [
       "<function matplotlib.pyplot.show(close=None, block=None)>"
      ]
     },
     "execution_count": 237,
     "metadata": {},
     "output_type": "execute_result"
    },
    {
     "data": {
      "image/png": "[encoded data removed]",
      "text/plain": [
       "<Figure size 640x480 with 1 Axes>"
      ]
     },
     "metadata": {},
     "output_type": "display_data"
    }
   ],
   "source": [
    "plt.hist(loan_data.grade)\n",
    "plt.show"
   ]
  },
  {
   "cell_type": "code",
   "execution_count": 245,
   "id": "a427aab7-fe9a-406a-8fa0-9cee71e8698f",
   "metadata": {},
   "outputs": [
    {
     "data": {
      "text/plain": [
       "sub_grade\n",
       "A4    2638\n",
       "B3    2545\n",
       "A5    2496\n",
       "B5    2440\n",
       "B4    2254\n",
       "C1    1914\n",
       "B2    1865\n",
       "C2    1795\n",
       "A3    1672\n",
       "B1    1665\n",
       "C3    1383\n",
       "A2    1381\n",
       "D2    1199\n",
       "C4    1127\n",
       "C5    1056\n",
       "A1    1039\n",
       "D3    1038\n",
       "D4     861\n",
       "D1     833\n",
       "D5     748\n",
       "E1     622\n",
       "E2     534\n",
       "E3     445\n",
       "E4     359\n",
       "E5     292\n",
       "F1     238\n",
       "F2     189\n",
       "F3     140\n",
       "F4     129\n",
       "F5      81\n",
       "G1      73\n",
       "G2      55\n",
       "G3      34\n",
       "G4      34\n",
       "G5      20\n",
       "Name: count, dtype: int64"
      ]
     },
     "execution_count": 245,
     "metadata": {},
     "output_type": "execute_result"
    }
   ],
   "source": [
    "# Exploring sub_grade column\n",
    "loan_data.sub_grade.value_counts()"
   ]
  },
  {
   "cell_type": "code",
   "execution_count": 247,
   "id": "e2e3851a-0a5b-4778-93ef-94a27e2b04cd",
   "metadata": {},
   "outputs": [
    {
     "data": {
      "text/plain": [
       "0"
      ]
     },
     "execution_count": 247,
     "metadata": {},
     "output_type": "execute_result"
    }
   ],
   "source": [
    "loan_data_clean.sub_grade.isnull().sum()"
   ]
  },
  {
   "cell_type": "code",
   "execution_count": 251,
   "id": "847b77aa-0e93-4cdc-b0ed-3771214846b5",
   "metadata": {},
   "outputs": [
    {
     "data": {
      "text/plain": [
       "1026"
      ]
     },
     "execution_count": 251,
     "metadata": {},
     "output_type": "execute_result"
    }
   ],
   "source": [
    "# Checking null values in emp_length column\n",
    "loan_data.emp_length.isnull().sum()"
   ]
  },
  {
   "cell_type": "code",
   "execution_count": 253,
   "id": "ef7ecc51-1ac5-4827-a4be-256d937dc1af",
   "metadata": {},
   "outputs": [],
   "source": [
    "# Eliminating records with null values for emp_lenght field\n",
    "loan_data = loan_data[~loan_data.emp_length.isnull()]"
   ]
  },
  {
   "cell_type": "code",
   "execution_count": 255,
   "id": "2000b2b4-322d-431f-8a9e-9a31df91bca3",
   "metadata": {},
   "outputs": [
    {
     "data": {
      "text/plain": [
       "emp_title                      1134\n",
       "desc                          10988\n",
       "title                            10\n",
       "revol_util                       45\n",
       "last_pymnt_d                     63\n",
       "last_credit_pull_d                1\n",
       "collections_12_mths_ex_med       41\n",
       "chargeoff_within_12_mths         41\n",
       "pub_rec_bankruptcies            630\n",
       "tax_liens                        27\n",
       "dtype: int64"
      ]
     },
     "execution_count": 255,
     "metadata": {},
     "output_type": "execute_result"
    }
   ],
   "source": [
    "loan_data.isnull().sum()[loan_data.isnull().sum() > 0 ]"
   ]
  },
  {
   "cell_type": "code",
   "execution_count": 261,
   "id": "243e039f-a228-4edb-b6ae-4523b7999212",
   "metadata": {},
   "outputs": [
    {
     "data": {
      "text/plain": [
       "(32327, 59)"
      ]
     },
     "execution_count": 261,
     "metadata": {},
     "output_type": "execute_result"
    }
   ],
   "source": [
    "# Eliminating records with null values for fields - emp_title, title, revol_util, last_paymnt_d, last_credit_pull_d, collections_12_mths_ex_med, chargeoff_within_12_mths, pub_rec_bankruptcies, pub_rec_bankruptcies, tax liens\n",
    "# Leaving the field desc as it will lead to a large no of records getting deleted\n",
    "# Define the columns to check for null values\n",
    "fields_to_check = [\n",
    "    'emp_title', 'title', 'revol_util', 'last_pymnt_d', 'last_credit_pull_d',\n",
    "    'collections_12_mths_ex_med', 'chargeoff_within_12_mths',\n",
    "    'pub_rec_bankruptcies', 'tax_liens'\n",
    "]\n",
    "# Drop rows with null values in the specified fields\n",
    "loan_data = loan_data.dropna(subset=fields_to_check)\n",
    "# Print the shape of the DataFrame after elimination\n",
    "loan_data.shape"
   ]
  },
  {
   "cell_type": "code",
   "execution_count": 263,
   "id": "8ffd127a-9580-44b9-af6b-44b6f05214fe",
   "metadata": {},
   "outputs": [
    {
     "data": {
      "text/plain": [
       "desc    10631\n",
       "dtype: int64"
      ]
     },
     "execution_count": 263,
     "metadata": {},
     "output_type": "execute_result"
    }
   ],
   "source": [
    "loan_data.isnull().sum()[loan_data.isnull().sum() > 0 ]"
   ]
  },
  {
   "cell_type": "code",
   "execution_count": 265,
   "id": "8e80f54a-dfe2-43b4-82ec-e97992c70d43",
   "metadata": {},
   "outputs": [
    {
     "data": {
      "text/plain": [
       "emp_length\n",
       "10+ years    7024\n",
       "2 years      3810\n",
       "< 1 year     3688\n",
       "3 years      3517\n",
       "4 years      2984\n",
       "5 years      2802\n",
       "1 year       2766\n",
       "6 years      1917\n",
       "7 years      1532\n",
       "8 years      1222\n",
       "9 years      1065\n",
       "Name: count, dtype: int64"
      ]
     },
     "execution_count": 265,
     "metadata": {},
     "output_type": "execute_result"
    }
   ],
   "source": [
    "#Analyzing the values in emp_lenght column\n",
    "loan_data['emp_length'].value_counts()"
   ]
  },
  {
   "cell_type": "code",
   "execution_count": 269,
   "id": "9e1372d0-6f28-479d-ad86-b9796a0498a9",
   "metadata": {},
   "outputs": [
    {
     "name": "stdout",
     "output_type": "stream",
     "text": [
      "   emp_length\n",
      "1        1.00\n",
      "3       10.00\n",
      "4        1.00\n",
      "5        3.00\n",
      "6        8.00\n"
     ]
    }
   ],
   "source": [
    "# Remove 'years', 'year', '<', and '+' signs and convert to numeric\n",
    "# Ensure emp_length is treated as a string, then clean and convert to numeric\n",
    "loan_data['emp_length'] = (\n",
    "    loan_data['emp_length']\n",
    "    .astype(str)                          # Convert all values to string\n",
    "    .str.replace('years', '', regex=False)  # Remove 'years'\n",
    "    .str.replace('year', '', regex=False)  # Remove 'year'\n",
    "    .str.replace('<', '', regex=False)     # Remove '<'\n",
    "    .str.replace('+', '', regex=False)     # Remove '+'\n",
    "    .str.strip()                           # Remove any leading/trailing spaces\n",
    "    .replace('n/a', None)                  # Replace 'n/a' with NaN if present\n",
    "    .astype(float)                         # Convert to numeric type\n",
    ")\n",
    "\n",
    "# Display the first few rows to verify\n",
    "print(loan_data[['emp_length']].head())"
   ]
  },
  {
   "cell_type": "code",
   "execution_count": 271,
   "id": "1f7f6708-0156-448c-8bfe-0f7479df1f99",
   "metadata": {},
   "outputs": [
    {
     "data": {
      "text/plain": [
       "emp_length\n",
       "10.00    7024\n",
       "1.00     6454\n",
       "2.00     3810\n",
       "3.00     3517\n",
       "4.00     2984\n",
       "5.00     2802\n",
       "6.00     1917\n",
       "7.00     1532\n",
       "8.00     1222\n",
       "9.00     1065\n",
       "Name: count, dtype: int64"
      ]
     },
     "execution_count": 271,
     "metadata": {},
     "output_type": "execute_result"
    }
   ],
   "source": [
    "loan_data['emp_length'].value_counts()"
   ]
  },
  {
   "cell_type": "code",
   "execution_count": 273,
   "id": "fc3fef7f-6558-419b-88c1-f57c3f131470",
   "metadata": {},
   "outputs": [
    {
     "data": {
      "text/plain": [
       "loan_amnt_bucket\n",
       "5K-10K     11165\n",
       "0-5K        8219\n",
       "10K-15K     6795\n",
       "15K-20K     3748\n",
       "20K-25K     2118\n",
       "25K+         282\n",
       "Name: count, dtype: int64"
      ]
     },
     "execution_count": 273,
     "metadata": {},
     "output_type": "execute_result"
    }
   ],
   "source": [
    "loan_data.loan_amnt_bucket.value_counts()"
   ]
  },
  {
   "cell_type": "code",
   "execution_count": 275,
   "id": "ca35998c-72d2-4e04-a7dc-b4fd08c18d28",
   "metadata": {},
   "outputs": [
    {
     "data": {
      "image/png": "[encoded data removed]",
      "text/plain": [
       "<Figure size 1000x600 with 1 Axes>"
      ]
     },
     "metadata": {},
     "output_type": "display_data"
    }
   ],
   "source": [
    "# Understanding the impact of Loan Amount Bucket on Loan Status\n",
    "plt.figure(figsize=(10, 6))\n",
    "sns.countplot(data=loan_data, x='loan_amnt_bucket', hue='loan_status', palette='viridis')\n",
    "plt.title('Loan Status by Loan Amount Bucket')\n",
    "plt.xlabel('Loan Amount Bucket')\n",
    "plt.ylabel('Frequency')\n",
    "plt.xticks(rotation=45)\n",
    "plt.legend(title='Loan Status')\n",
    "plt.show()"
   ]
  },
  {
   "cell_type": "code",
   "execution_count": 281,
   "id": "48875431-7f07-4b2d-b0a7-33c058521fd4",
   "metadata": {},
   "outputs": [],
   "source": [
    "# Finding # 1\n",
    "# The 'Loan Amount Bucket' of 5K - 10K have highest 'Charged Off' loans\n",
    "# The absolute no's of \"Charged Off\" loans gradually fall as we go to higher \"Loan Amount Buckets\""
   ]
  },
  {
   "cell_type": "code",
   "execution_count": 285,
   "id": "4abc1261-46ed-4fda-8435-389cf6ae4f5d",
   "metadata": {},
   "outputs": [
    {
     "name": "stderr",
     "output_type": "stream",
     "text": [
      "C:\\Users\\anand\\AppData\\Local\\Temp\\ipykernel_32740\\1367844268.py:4: FutureWarning: The default of observed=False is deprecated and will be changed to True in a future version of pandas. Pass observed=False to retain current behavior or observed=True to adopt the future default and silence this warning.\n",
      "  bucket_status = loan_data.groupby(['loan_amnt_bucket', 'loan_status']).size().unstack(fill_value=0)\n"
     ]
    },
    {
     "data": {
      "image/png": "[encoded data removed]",
      "text/plain": [
       "<Figure size 1000x600 with 1 Axes>"
      ]
     },
     "metadata": {},
     "output_type": "display_data"
    }
   ],
   "source": [
    "# Understanding the impact of Loan Amount Bucket on Loan Status\n",
    "# Charged Off Loans as a Percentage of total loans for the said Loan Amount bucket\n",
    "\n",
    "bucket_status = loan_data.groupby(['loan_amnt_bucket', 'loan_status']).size().unstack(fill_value=0)\n",
    "bucket_status['Total'] = bucket_status.sum(axis=1)\n",
    "bucket_status['Charged_Off_Percent'] = (bucket_status.get('Charged Off', 0) / bucket_status['Total']) * 100\n",
    "\n",
    "# Plot the Percentage of Charged Off Loans by Loan Amount Bucket\n",
    "plt.figure(figsize=(10, 6))\n",
    "bucket_status['Charged_Off_Percent'].plot(kind='bar', alpha=0.8)\n",
    "plt.title('Percentage of Charged Off Loans by Loan Amount Bucket')\n",
    "plt.xlabel('Loan Amount Bucket')\n",
    "plt.ylabel('Charged Off Loans (%)')\n",
    "plt.xticks(rotation=45)\n",
    "plt.show()"
   ]
  },
  {
   "cell_type": "code",
   "execution_count": 287,
   "id": "3de76a00-0a20-483a-b1f6-58e07b947871",
   "metadata": {},
   "outputs": [],
   "source": [
    "# Finding # 2\n",
    "# Whereas the absolute no of \"Charged Off\" loans are highest in the 'Loan Amount Bucket' of 5K - 10K and then gradually decline as we go up.\n",
    "# However when expressed as a percentage - \"Charged Off\" loans as a percentage of total loans in the respective Loan Amount Bucket - \n",
    "    # The percentage of Charged Off Loans go up as the the Loan Amount Bucket increases"
   ]
  },
  {
   "cell_type": "code",
   "execution_count": 293,
   "id": "3459973a-3735-48e0-b6dd-eb85786e7610",
   "metadata": {},
   "outputs": [
    {
     "data": {
      "image/png": "[encoded data removed]",
      "text/plain": [
       "<Figure size 800x600 with 1 Axes>"
      ]
     },
     "metadata": {},
     "output_type": "display_data"
    }
   ],
   "source": [
    "# Understanding the impact of Term on Loan Status\n",
    "plt.figure(figsize=(8, 6))\n",
    "sns.countplot(data=loan_data, x='term', hue='loan_status', palette='viridis')\n",
    "plt.title('Relationship between Loan Status and Term')\n",
    "plt.xlabel('Loan Term (Months)')\n",
    "plt.ylabel('Count')\n",
    "plt.legend(title='Loan Status')\n",
    "plt.xticks(rotation=45)\n",
    "plt.show()"
   ]
  },
  {
   "cell_type": "code",
   "execution_count": 295,
   "id": "ff21febf-48ab-41fd-ba28-7e23024c42d3",
   "metadata": {},
   "outputs": [],
   "source": [
    "# Finding # 3\n",
    "# Given the larger base the high abosolute no's are experinced for Charged Off Loans in lower loan tenure i.e. 36 months\n",
    "# However \"Charged Off\" loans as a percentage of total loans for the respective tenures are higher for higher tenures i.e. in 60 months tenure"
   ]
  },
  {
   "cell_type": "code",
   "execution_count": 297,
   "id": "a26f4a92-d442-4ce0-b484-f81ff88da872",
   "metadata": {},
   "outputs": [
    {
     "name": "stdout",
     "output_type": "stream",
     "text": [
      "loan_status      Charged Off  Current  Fully Paid\n",
      "int_rate_bucket                                  \n",
      "0-5                        0        0           0\n",
      "5-10                     631       63        9305\n",
      "10-15                   2189      396       13128\n",
      "15-20                   1402      343        4333\n",
      "20-25                    194       55         288\n"
     ]
    }
   ],
   "source": [
    "# Understanding the impact of Interest Rates on Loan Status\n",
    "# Create a pivot table between Interest Rate Bucket and loan status and store the result\n",
    "res_1 = pd.pivot_table(\n",
    "    data=loan_data, \n",
    "    index='int_rate_bucket', \n",
    "    columns='loan_status', \n",
    "    values='id', \n",
    "    aggfunc='count',\n",
    "    fill_value=0,  # Replace NaN with 0\n",
    "    observed=False\n",
    ")\n",
    "\n",
    "# Display the Pivot Table\n",
    "print(res_1)"
   ]
  },
  {
   "cell_type": "code",
   "execution_count": 299,
   "id": "b4bf34b7-1289-47e2-b639-4f4ca3d072b2",
   "metadata": {},
   "outputs": [
    {
     "data": {
      "image/png": "[encoded data removed]",
      "text/plain": [
       "<Figure size 1000x800 with 2 Axes>"
      ]
     },
     "metadata": {},
     "output_type": "display_data"
    }
   ],
   "source": [
    "# Create a heatmap between Interest Rate and Loan Status\n",
    "plt.figure(figsize=(10, 8))\n",
    "sns.heatmap(\n",
    "    res_1, \n",
    "    cmap='Blues', \n",
    "    annot=True,  # Enable annotations\n",
    "    fmt='g',     # Use standard numeric format instead of scientific notation\n",
    "    cbar_kws={'label': 'Loan Count'}  # Label for color bar\n",
    ")\n",
    "plt.title('Heatmap of Interest Rate vs Loan Status')\n",
    "plt.xlabel('Loan Status')\n",
    "plt.ylabel('Interest Rate')\n",
    "plt.xticks(rotation=45)  # Rotate x-axis labels for better readability\n",
    "plt.yticks(rotation=0)   # Keep y-axis labels horizontal\n",
    "plt.show()"
   ]
  },
  {
   "cell_type": "code",
   "execution_count": 303,
   "id": "846ec61e-479b-479c-9960-e0232aac16ce",
   "metadata": {},
   "outputs": [],
   "source": [
    "# Finding # 4\n",
    "# Percentage of Charged Off loans increases as the Interest Rate increases."
   ]
  },
  {
   "cell_type": "code",
   "execution_count": 305,
   "id": "378c3f3c-a773-4c36-8f3c-aa4bb7eb7503",
   "metadata": {},
   "outputs": [
    {
     "name": "stdout",
     "output_type": "stream",
     "text": [
      "loan_status  Charged Off  Current  Fully Paid\n",
      "grade                                        \n",
      "A                    493       34        7868\n",
      "B                   1156      255        8517\n",
      "C                   1086      208        5382\n",
      "D                    875      180        3250\n",
      "E                    521      132        1448\n",
      "F                    214       37         468\n",
      "G                     71       11         121\n"
     ]
    }
   ],
   "source": [
    "# Understanding the impact of Grade on Loan Status\n",
    "# Create a pivot table between Grade and loan Status and store the result\n",
    "res_2 = pd.pivot_table(\n",
    "    data=loan_data, \n",
    "    index='grade', \n",
    "    columns='loan_status', \n",
    "    values='id', \n",
    "    aggfunc='count',\n",
    "    fill_value=0,  # Replace NaN with 0\n",
    "    observed=False\n",
    ")\n",
    "\n",
    "# Display the Pivot Table\n",
    "print(res_2)"
   ]
  },
  {
   "cell_type": "code",
   "execution_count": 307,
   "id": "42ae341c-83ed-4ae0-aabb-fec1e35d3e38",
   "metadata": {},
   "outputs": [
    {
     "name": "stdout",
     "output_type": "stream",
     "text": [
      "       charged_off_loans  total_loans  charged_off_percentage\n",
      "grade                                                        \n",
      "A                    493         8395                    5.87\n",
      "B                   1156         9928                   11.64\n",
      "C                   1086         6676                   16.27\n",
      "D                    875         4305                   20.33\n",
      "E                    521         2101                   24.80\n",
      "F                    214          719                   29.76\n",
      "G                     71          203                   34.98\n"
     ]
    },
    {
     "data": {
      "image/png": "[encoded data removed]",
      "text/plain": [
       "<Figure size 1000x600 with 1 Axes>"
      ]
     },
     "metadata": {},
     "output_type": "display_data"
    }
   ],
   "source": [
    "# Create a pivot table to calculate total loans by grade\n",
    "total_loans = pd.pivot_table(\n",
    "    data=loan_data,\n",
    "    index='grade',\n",
    "    values='id',\n",
    "    aggfunc='count'\n",
    ").rename(columns={'id': 'total_loans'})\n",
    "\n",
    "# Create a pivot table to calculate charged off loans by grade\n",
    "charged_off_loans = pd.pivot_table(\n",
    "    data=loan_data[loan_data['loan_status'] == 'Charged Off'],\n",
    "    index='grade',\n",
    "    values='id',\n",
    "    aggfunc='count'\n",
    ").rename(columns={'id': 'charged_off_loans'})\n",
    "\n",
    "# Combine the two tables\n",
    "percentage_pivot = charged_off_loans.join(total_loans)\n",
    "\n",
    "# Calculate the percentage of charged off loans\n",
    "percentage_pivot['charged_off_percentage'] = (\n",
    "    (percentage_pivot['charged_off_loans'] / percentage_pivot['total_loans']) * 100\n",
    ").round(2)\n",
    "\n",
    "# Display the Pivot Table\n",
    "print(percentage_pivot)\n",
    "\n",
    "# Visualize the results\n",
    "plt.figure(figsize=(10, 6))\n",
    "percentage_pivot['charged_off_percentage'].plot(kind='bar')\n",
    "plt.title('Percentage of Loans Charged Off by Grade')\n",
    "plt.xlabel('Loan Grade')\n",
    "plt.ylabel('Charged Off Percentage (%)')\n",
    "plt.xticks(rotation=0)\n",
    "plt.show()"
   ]
  },
  {
   "cell_type": "code",
   "execution_count": 309,
   "id": "a1ec9f70-c0c1-4592-96ae-854d0e556fe6",
   "metadata": {},
   "outputs": [],
   "source": [
    "# Finding # 5\n",
    "# Percentage of Charged Off loans increases as the Grade increases from 'A' to 'G'"
   ]
  },
  {
   "cell_type": "code",
   "execution_count": 311,
   "id": "86657cc9-7f03-4cfe-be06-1b0264f529d5",
   "metadata": {},
   "outputs": [
    {
     "name": "stdout",
     "output_type": "stream",
     "text": [
      "            charged_off_loans  total_loans  charged_off_percentage\n",
      "emp_length                                                        \n",
      "1.00                      865         6454                   13.40\n",
      "2.00                      489         3810                   12.83\n",
      "3.00                      469         3517                   13.34\n",
      "4.00                      389         2984                   13.04\n",
      "5.00                      375         2802                   13.38\n",
      "6.00                      261         1917                   13.62\n",
      "7.00                      223         1532                   14.56\n",
      "8.00                      164         1222                   13.42\n",
      "9.00                      134         1065                   12.58\n",
      "10.00                    1047         7024                   14.91\n"
     ]
    },
    {
     "data": {
      "image/png": "[encoded data removed]",
      "text/plain": [
       "<Figure size 1000x600 with 1 Axes>"
      ]
     },
     "metadata": {},
     "output_type": "display_data"
    }
   ],
   "source": [
    "# Undestanding the relationship between emp_lenght and loan_status\n",
    "# Create a pivot table to calculate total loans by emp_length\n",
    "total_loans = pd.pivot_table(\n",
    "    data=loan_data,\n",
    "    index='emp_length',\n",
    "    values='id',\n",
    "    aggfunc='count'\n",
    ").rename(columns={'id': 'total_loans'})\n",
    "\n",
    "# Create a pivot table to calculate charged off loans by emp_length\n",
    "charged_off_loans = pd.pivot_table(\n",
    "    data=loan_data[loan_data['loan_status'] == 'Charged Off'],\n",
    "    index='emp_length',\n",
    "    values='id',\n",
    "    aggfunc='count'\n",
    ").rename(columns={'id': 'charged_off_loans'})\n",
    "\n",
    "# Combine the two tables\n",
    "percentage_pivot = charged_off_loans.join(total_loans)\n",
    "\n",
    "# Calculate the percentage of charged off loans\n",
    "percentage_pivot['charged_off_percentage'] = (\n",
    "    (percentage_pivot['charged_off_loans'] / percentage_pivot['total_loans']) * 100\n",
    ").round(2)\n",
    "\n",
    "# Display the Pivot Table\n",
    "print(percentage_pivot)\n",
    "\n",
    "# Visualize the results\n",
    "plt.figure(figsize=(10, 6))\n",
    "percentage_pivot['charged_off_percentage'].plot(kind='bar')\n",
    "plt.title('Percentage of Loans Charged Off by Emp_Length')\n",
    "plt.xlabel('Emp_Lenght')\n",
    "plt.ylabel('Charged Off Percentage (%)')\n",
    "plt.xticks(rotation=0)\n",
    "plt.show()"
   ]
  },
  {
   "cell_type": "code",
   "execution_count": 313,
   "id": "57dd35bf-1701-4516-b3ce-897eed4bd935",
   "metadata": {},
   "outputs": [],
   "source": [
    "# Finding # 6\n",
    "# No clear evidence to suggest that emp_lenth has an impact on loans that are charged off"
   ]
  },
  {
   "cell_type": "code",
   "execution_count": 315,
   "id": "ee9076b5-883a-45ec-a816-71391f06d73d",
   "metadata": {},
   "outputs": [
    {
     "name": "stdout",
     "output_type": "stream",
     "text": [
      "                charged_off_loans  total_loans  charged_off_percentage\n",
      "home_ownership                                                        \n",
      "MORTGAGE                     1719        13472                   12.76\n",
      "OTHER                          17           86                   19.77\n",
      "OWN                           321         2368                   13.56\n",
      "RENT                         2359        16401                   14.38\n"
     ]
    },
    {
     "data": {
      "image/png": "[encoded data removed]",
      "text/plain": [
       "<Figure size 1000x600 with 1 Axes>"
      ]
     },
     "metadata": {},
     "output_type": "display_data"
    }
   ],
   "source": [
    "# Understanding the impact of home_ownership on loan_status\n",
    "# Create a pivot table to calculate total loans by home_ownership\n",
    "total_loans = pd.pivot_table(\n",
    "    data=loan_data,\n",
    "    index='home_ownership',\n",
    "    values='id',\n",
    "    aggfunc='count'\n",
    ").rename(columns={'id': 'total_loans'})\n",
    "\n",
    "# Create a pivot table to calculate charged off loans by grade\n",
    "charged_off_loans = pd.pivot_table(\n",
    "    data=loan_data[loan_data['loan_status'] == 'Charged Off'],\n",
    "    index='home_ownership',\n",
    "    values='id',\n",
    "    aggfunc='count'\n",
    ").rename(columns={'id': 'charged_off_loans'})\n",
    "\n",
    "#Combine the two tables\n",
    "percentage_pivot = charged_off_loans.join(total_loans)\n",
    "\n",
    "#Calculate the percentage of charged off loans\n",
    "percentage_pivot['charged_off_percentage'] = (\n",
    "    (percentage_pivot['charged_off_loans'] / percentage_pivot['total_loans']) * 100\n",
    ").round(2)\n",
    "\n",
    "#Display the Pivot Table\n",
    "print(percentage_pivot)\n",
    "\n",
    "#Visualize the results\n",
    "plt.figure(figsize=(10, 6))\n",
    "percentage_pivot['charged_off_percentage'].plot(kind='bar')\n",
    "plt.title('Percentage of Loans Charged Off by Home Ownership')\n",
    "plt.xlabel('Home Ownership')\n",
    "plt.ylabel('Charged Off Percentage (%)')\n",
    "plt.xticks(rotation=0)\n",
    "plt.show()"
   ]
  },
  {
   "cell_type": "code",
   "execution_count": 323,
   "id": "18a2b9e6-ae88-4da8-b950-2768dc5a06d6",
   "metadata": {},
   "outputs": [],
   "source": [
    "# Finding # 7\n",
    "# No clear evidence to suggest that home_ownership has an impact on loans that are charged off"
   ]
  },
  {
   "cell_type": "code",
   "execution_count": 325,
   "id": "71ab198b-5c5e-49ca-856b-99f4967712a6",
   "metadata": {},
   "outputs": [
    {
     "name": "stderr",
     "output_type": "stream",
     "text": [
      "C:\\Users\\anand\\AppData\\Local\\Temp\\ipykernel_32740\\2424161880.py:4: FutureWarning: The default value of observed=False is deprecated and will change to observed=True in a future version of pandas. Specify observed=False to silence this warning and retain the current behavior\n",
      "  total_loans = pd.pivot_table(\n",
      "C:\\Users\\anand\\AppData\\Local\\Temp\\ipykernel_32740\\2424161880.py:12: FutureWarning: The default value of observed=False is deprecated and will change to observed=True in a future version of pandas. Specify observed=False to silence this warning and retain the current behavior\n",
      "  charged_off_loans = pd.pivot_table(\n"
     ]
    },
    {
     "name": "stdout",
     "output_type": "stream",
     "text": [
      "                   charged_off_loans  total_loans  charged_off_percentage\n",
      "annual_inc_bucket                                                        \n",
      "0-20000                          155          785                   19.75\n",
      "20000-40000                     1172         7057                   16.61\n",
      "40000-60000                     1459        10165                   14.35\n",
      "60000-80000                     1003         7909                   12.68\n",
      "80000-100000                     453         4325                   10.47\n",
      "100000-200000                    174         2086                    8.34\n"
     ]
    },
    {
     "data": {
      "image/png": "[encoded data removed]",
      "text/plain": [
       "<Figure size 1000x600 with 1 Axes>"
      ]
     },
     "metadata": {},
     "output_type": "display_data"
    }
   ],
   "source": [
    "# Relationship between loan_status and Annual Income Bucket\n",
    "\n",
    "# Create a pivot table to calculate total loans by annual_inc_bucket\n",
    "total_loans = pd.pivot_table(\n",
    "    data=loan_data,\n",
    "    index='annual_inc_bucket',\n",
    "    values='id',\n",
    "    aggfunc='count'\n",
    ").rename(columns={'id': 'total_loans'})\n",
    "\n",
    "# Create a pivot table to calculate charged off loans by annual_inc_bucket\n",
    "charged_off_loans = pd.pivot_table(\n",
    "    data=loan_data[loan_data['loan_status'] == 'Charged Off'],\n",
    "    index='annual_inc_bucket',\n",
    "    values='id',\n",
    "    aggfunc='count'\n",
    ").rename(columns={'id': 'charged_off_loans'})\n",
    "\n",
    "# Combine the two tables\n",
    "percentage_pivot = charged_off_loans.join(total_loans)\n",
    "\n",
    "# Calculate the percentage of charged off loans\n",
    "percentage_pivot['charged_off_percentage'] = (\n",
    "    (percentage_pivot['charged_off_loans'] / percentage_pivot['total_loans']) * 100\n",
    ").round(2)\n",
    "\n",
    "# Display the Pivot Table\n",
    "print(percentage_pivot)\n",
    "\n",
    "# Visualize the results\n",
    "plt.figure(figsize=(10, 6))\n",
    "percentage_pivot['charged_off_percentage'].plot(kind='bar')\n",
    "plt.title('Percentage of Loans Charged Off by Annual Income Bucket')\n",
    "plt.xlabel('Annual Income Bucket')\n",
    "plt.ylabel('Charged Off Percentage (%)')\n",
    "plt.xticks(rotation=0)\n",
    "plt.show()"
   ]
  },
  {
   "cell_type": "code",
   "execution_count": 327,
   "id": "9f9097c6-a179-45d6-bef7-9b24beea7902",
   "metadata": {},
   "outputs": [],
   "source": [
    "# Finding # 8\n",
    "# Annual Income has a very significant impact on the Charged Off Loan\n",
    "# We experience high Charged Off loans in lower Annual Income brackets and they go down significantly as the Annual Income increases"
   ]
  },
  {
   "cell_type": "code",
   "execution_count": 329,
   "id": "f2128bd0-a04a-40c1-aae8-63dbca0d831e",
   "metadata": {},
   "outputs": [
    {
     "name": "stdout",
     "output_type": "stream",
     "text": [
      "                    charged_off_loans  total_loans  charged_off_percentage\n",
      "purpose                                                                   \n",
      "car                               144         1353                   10.64\n",
      "credit_card                       426         4191                   10.16\n",
      "debt_consolidation               2241        15584                   14.38\n",
      "educational                        43          258                   16.67\n",
      "home_improvement                  250         2148                   11.64\n",
      "house                              40          288                   13.89\n",
      "major_purchase                    178         1815                    9.81\n",
      "medical                            86          565                   15.22\n",
      "moving                             76          475                   16.00\n",
      "other                             497         3274                   15.18\n",
      "renewable_energy                   14           76                   18.42\n",
      "small_business                    300         1182                   25.38\n",
      "vacation                           47          312                   15.06\n",
      "wedding                            74          806                    9.18\n"
     ]
    },
    {
     "data": {
      "image/png": "[encoded data removed]",
      "text/plain": [
       "<Figure size 1000x600 with 1 Axes>"
      ]
     },
     "metadata": {},
     "output_type": "display_data"
    }
   ],
   "source": [
    "# Relationship between loan_status and Purpose\n",
    "# Create a pivot table to calculate total loans by Purpose\n",
    "total_loans = pd.pivot_table(\n",
    "    data=loan_data,\n",
    "    index='purpose',\n",
    "    values='id',\n",
    "    aggfunc='count'\n",
    ").rename(columns={'id': 'total_loans'})\n",
    "\n",
    "# Create a pivot table to calculate charged off loans by annual_inc_bucket\n",
    "charged_off_loans = pd.pivot_table(\n",
    "    data=loan_data[loan_data['loan_status'] == 'Charged Off'],\n",
    "    index='purpose',\n",
    "    values='id',\n",
    "    aggfunc='count'\n",
    ").rename(columns={'id': 'charged_off_loans'})\n",
    "\n",
    "# Combine the two tables\n",
    "percentage_pivot = charged_off_loans.join(total_loans)\n",
    "\n",
    "# Calculate the percentage of charged off loans\n",
    "percentage_pivot['charged_off_percentage'] = (\n",
    "    (percentage_pivot['charged_off_loans'] / percentage_pivot['total_loans']) * 100\n",
    ").round(2)\n",
    "\n",
    "# Display the Pivot Table\n",
    "print(percentage_pivot)\n",
    "\n",
    "# Visualize the results\n",
    "plt.figure(figsize=(10, 6))\n",
    "percentage_pivot['charged_off_percentage'].plot(kind='bar')\n",
    "plt.title('Percentage of Loans Charged Off by Purpose')\n",
    "plt.xlabel('Purpose')\n",
    "plt.ylabel('Charged Off Percentage (%)')\n",
    "plt.xticks(rotation=45)\n",
    "plt.show()"
   ]
  },
  {
   "cell_type": "code",
   "execution_count": 333,
   "id": "8b0bd98b-30b8-44ec-802b-0a9b0e6d4a49",
   "metadata": {},
   "outputs": [],
   "source": [
    "# Finding # 9\n",
    "# Charged off loans as a percentage of Total Loans is highest where the purpose of the loan is for Small Business"
   ]
  },
  {
   "cell_type": "code",
   "execution_count": 335,
   "id": "c6dcc13a-e886-4cb7-8a8e-2c8ba0669ec4",
   "metadata": {},
   "outputs": [
    {
     "name": "stdout",
     "output_type": "stream",
     "text": [
      "            charged_off_loans  total_loans  charged_off_percentage\n",
      "addr_state                                                        \n",
      "AK                         13           61                   21.31\n",
      "AL                         40          375                   10.67\n",
      "AR                         23          209                   11.00\n",
      "AZ                         99          700                   14.14\n",
      "CA                        856         5697                   15.03\n",
      "CO                         73          638                   11.44\n",
      "CT                         70          584                   11.99\n",
      "DC                         10          174                    5.75\n",
      "DE                         11           96                   11.46\n",
      "FL                        396         2375                   16.67\n",
      "GA                        177         1145                   15.46\n",
      "HI                         25          144                   17.36\n",
      "IL                        175         1271                   13.77\n",
      "KS                         20          224                    8.93\n",
      "KY                         40          281                   14.23\n",
      "LA                         40          350                   11.43\n",
      "MA                        123         1067                   11.53\n",
      "MD                        115          841                   13.67\n",
      "MI                         80          590                   13.56\n",
      "MN                         68          518                   13.13\n",
      "MO                         90          585                   15.38\n",
      "MS                          1           17                    5.88\n",
      "MT                          7           69                   10.14\n",
      "NC                         93          633                   14.69\n",
      "NH                         19          130                   14.62\n",
      "NJ                        227         1463                   15.52\n",
      "NM                         27          151                   17.88\n",
      "NV                         85          406                   20.94\n",
      "NY                        387         3085                   12.54\n",
      "OH                        127         1048                   12.12\n",
      "OK                         35          257                   13.62\n",
      "OR                         56          379                   14.78\n",
      "PA                        145         1307                   11.09\n",
      "RI                         23          172                   13.37\n",
      "SC                         58          405                   14.32\n",
      "SD                         10           56                   17.86\n",
      "TN                          2            9                   22.22\n",
      "TX                        231         2165                   10.67\n",
      "UT                         29          215                   13.49\n",
      "VA                        141         1123                   12.56\n",
      "VT                          5           46                   10.87\n",
      "WA                        101          663                   15.23\n",
      "WI                         42          374                   11.23\n",
      "WV                         19          149                   12.75\n",
      "WY                          2           75                    2.67\n"
     ]
    },
    {
     "data": {
      "image/png": "[encoded data removed]",
      "text/plain": [
       "<Figure size 1000x600 with 1 Axes>"
      ]
     },
     "metadata": {},
     "output_type": "display_data"
    }
   ],
   "source": [
    "# Relationship between loan_status and Address State\n",
    "# Create a pivot table to calculate total loans by Address State\n",
    "total_loans = pd.pivot_table(\n",
    "    data=loan_data,\n",
    "    index='addr_state',\n",
    "    values='id',\n",
    "    aggfunc='count'\n",
    ").rename(columns={'id': 'total_loans'})\n",
    "\n",
    "# Create a pivot table to calculate charged off loans by annual_inc_bucket\n",
    "charged_off_loans = pd.pivot_table(\n",
    "    data=loan_data[loan_data['loan_status'] == 'Charged Off'],\n",
    "    index='addr_state',\n",
    "    values='id',\n",
    "    aggfunc='count'\n",
    ").rename(columns={'id': 'charged_off_loans'})\n",
    "\n",
    "# Combine the two tables\n",
    "percentage_pivot = charged_off_loans.join(total_loans)\n",
    "\n",
    "# Calculate the percentage of charged off loans\n",
    "percentage_pivot['charged_off_percentage'] = (\n",
    "    (percentage_pivot['charged_off_loans'] / percentage_pivot['total_loans']) * 100\n",
    ").round(2)\n",
    "\n",
    "# Display the Pivot Table\n",
    "print(percentage_pivot)\n",
    "\n",
    "# Visualize the results\n",
    "plt.figure(figsize=(10, 6))\n",
    "percentage_pivot['charged_off_percentage'].plot(kind='bar')\n",
    "plt.title('Percentage of Loans Charged Off by Address State')\n",
    "plt.xlabel('Address State')\n",
    "plt.ylabel('Charged Off Percentage (%)')\n",
    "plt.xticks(rotation=45)\n",
    "plt.show()"
   ]
  },
  {
   "cell_type": "code",
   "execution_count": 337,
   "id": "c309f229-3c10-4d25-9184-a5bc59a987a5",
   "metadata": {},
   "outputs": [],
   "source": [
    "# Finding # 10\n",
    "# Charged off loans as a percentage of Total Loans is significantly high for AK, NV and TN and the lenders needs to be cognizant of that"
   ]
  },
  {
   "cell_type": "code",
   "execution_count": 339,
   "id": "6185f249-d407-4253-99b4-5dce51798a37",
   "metadata": {},
   "outputs": [
    {
     "data": {
      "text/plain": [
       "dti_bucket\n",
       "12-14    3337\n",
       "14-16    3320\n",
       "10-12    3060\n",
       "16-18    3054\n",
       "18-20    2962\n",
       "8-10     2777\n",
       "20-22    2637\n",
       "6-8      2393\n",
       "22-24    2355\n",
       "4-6      1974\n",
       "2-4      1525\n",
       "0-2      1361\n",
       "24-26    1130\n",
       "26-28     263\n",
       "28-30     179\n",
       "Name: count, dtype: int64"
      ]
     },
     "execution_count": 339,
     "metadata": {},
     "output_type": "execute_result"
    }
   ],
   "source": [
    "loan_data.dti_bucket.value_counts()"
   ]
  },
  {
   "cell_type": "code",
   "execution_count": 341,
   "id": "072891b3-70c1-46eb-bf04-b0a3defd958d",
   "metadata": {},
   "outputs": [
    {
     "name": "stderr",
     "output_type": "stream",
     "text": [
      "C:\\Users\\anand\\AppData\\Local\\Temp\\ipykernel_32740\\2197440485.py:3: FutureWarning: The default value of observed=False is deprecated and will change to observed=True in a future version of pandas. Specify observed=False to silence this warning and retain the current behavior\n",
      "  total_loans = pd.pivot_table(\n",
      "C:\\Users\\anand\\AppData\\Local\\Temp\\ipykernel_32740\\2197440485.py:11: FutureWarning: The default value of observed=False is deprecated and will change to observed=True in a future version of pandas. Specify observed=False to silence this warning and retain the current behavior\n",
      "  charged_off_loans = pd.pivot_table(\n"
     ]
    },
    {
     "name": "stdout",
     "output_type": "stream",
     "text": [
      "            charged_off_loans  total_loans  charged_off_percentage\n",
      "dti_bucket                                                        \n",
      "0-2                       176         1361                   12.93\n",
      "2-4                       187         1525                   12.26\n",
      "4-6                       203         1974                   10.28\n",
      "6-8                       283         2393                   11.83\n",
      "8-10                      339         2777                   12.21\n",
      "10-12                     391         3060                   12.78\n",
      "12-14                     476         3337                   14.26\n",
      "14-16                     461         3320                   13.89\n",
      "16-18                     443         3054                   14.51\n",
      "18-20                     451         2962                   15.23\n",
      "20-22                     422         2637                   16.00\n",
      "22-24                     366         2355                   15.54\n",
      "24-26                     171         1130                   15.13\n",
      "26-28                      26          263                    9.89\n",
      "28-30                      21          179                   11.73\n"
     ]
    },
    {
     "data": {
      "image/png": "[encoded data removed]",
      "text/plain": [
       "<Figure size 1000x600 with 1 Axes>"
      ]
     },
     "metadata": {},
     "output_type": "display_data"
    }
   ],
   "source": [
    "# Understanding the relationship between loan_status and DTI\n",
    "# Create a pivot table to calculate total loans by dti_bucket\n",
    "total_loans = pd.pivot_table(\n",
    "    data=loan_data,\n",
    "    index='dti_bucket',\n",
    "    values='id',\n",
    "    aggfunc='count'\n",
    ").rename(columns={'id': 'total_loans'})\n",
    "\n",
    "# Create a pivot table to calculate charged off loans by annual_inc_bucket\n",
    "charged_off_loans = pd.pivot_table(\n",
    "    data=loan_data[loan_data['loan_status'] == 'Charged Off'],\n",
    "    index='dti_bucket',\n",
    "    values='id',\n",
    "    aggfunc='count'\n",
    ").rename(columns={'id': 'charged_off_loans'})\n",
    "\n",
    "# Combine the two tables\n",
    "percentage_pivot = charged_off_loans.join(total_loans)\n",
    "\n",
    "# Calculate the percentage of charged off loans\n",
    "percentage_pivot['charged_off_percentage'] = (\n",
    "    (percentage_pivot['charged_off_loans'] / percentage_pivot['total_loans']) * 100\n",
    ").round(2)\n",
    "\n",
    "# Display the Pivot Table\n",
    "print(percentage_pivot)\n",
    "\n",
    "# Visualize the results\n",
    "plt.figure(figsize=(10, 6))\n",
    "percentage_pivot['charged_off_percentage'].plot(kind='bar')\n",
    "plt.title('Percentage of Loans Charged Off by DTI_Bucket')\n",
    "plt.xlabel('DTI_Bucket')\n",
    "plt.ylabel('Charged Off Percentage (%)')\n",
    "plt.xticks(rotation=45)\n",
    "plt.show()"
   ]
  },
  {
   "cell_type": "code",
   "execution_count": 343,
   "id": "f45d2d19-d9f4-451f-9dd7-e5e61dd1d427",
   "metadata": {},
   "outputs": [],
   "source": [
    "# Finding # 11\n",
    "# Charged off loans as a percentage of Total Loans is shows an increase as the DTI increases\n",
    "# The increase starts from bucket '4-6' and peaks in the DTI bucket of '20-22' and the gradually tapering down again"
   ]
  },
  {
   "cell_type": "code",
   "execution_count": 345,
   "id": "1c0b1700-85c9-4bc7-8e7d-4e8fa86c1028",
   "metadata": {},
   "outputs": [
    {
     "name": "stdout",
     "output_type": "stream",
     "text": [
      "             charged_off_loans  total_loans  charged_off_percentage\n",
      "delinq_2yrs                                                        \n",
      "0                         3909        28905                   13.52\n",
      "1                          375         2633                   14.24\n",
      "2                           92          532                   17.29\n",
      "3                           24          177                   13.56\n",
      "4                           11           46                   23.91\n",
      "5                            2           17                   11.76\n",
      "6                            1           10                   10.00\n",
      "7                            1            4                   25.00\n",
      "8                            1            2                   50.00\n"
     ]
    },
    {
     "data": {
      "image/png": "[encoded data removed]",
      "text/plain": [
       "<Figure size 1000x600 with 1 Axes>"
      ]
     },
     "metadata": {},
     "output_type": "display_data"
    }
   ],
   "source": [
    "# Relationship between loan_status and delinq_2yrs\n",
    "# Create a pivot table to calculate total loans by delinq_2yrs\n",
    "total_loans = pd.pivot_table(\n",
    "    data=loan_data,\n",
    "    index='delinq_2yrs',\n",
    "    values='id',\n",
    "    aggfunc='count'\n",
    ").rename(columns={'id': 'total_loans'})\n",
    "\n",
    "# Create a pivot table to calculate charged off loans by annual_inc_bucket\n",
    "charged_off_loans = pd.pivot_table(\n",
    "    data=loan_data[loan_data['loan_status'] == 'Charged Off'],\n",
    "    index='delinq_2yrs',\n",
    "    values='id',\n",
    "    aggfunc='count'\n",
    ").rename(columns={'id': 'charged_off_loans'})\n",
    "\n",
    "# Combine the two tables\n",
    "percentage_pivot = charged_off_loans.join(total_loans)\n",
    "\n",
    "# Calculate the percentage of charged off loans\n",
    "percentage_pivot['charged_off_percentage'] = (\n",
    "    (percentage_pivot['charged_off_loans'] / percentage_pivot['total_loans']) * 100\n",
    ").round(2)\n",
    "\n",
    "# Display the Pivot Table\n",
    "print(percentage_pivot)\n",
    "\n",
    "# Visualize the results\n",
    "plt.figure(figsize=(10, 6))\n",
    "percentage_pivot['charged_off_percentage'].plot(kind='bar')\n",
    "plt.title('Percentage of Loans Charged Off by delinq_2yrs')\n",
    "plt.xlabel('delinq_2yrs')\n",
    "plt.ylabel('Charged Off Percentage (%)')\n",
    "plt.xticks(rotation=45)\n",
    "plt.show()"
   ]
  },
  {
   "cell_type": "code",
   "execution_count": 347,
   "id": "09efa1fb-94c2-4ec2-91aa-14cc5feac9b7",
   "metadata": {},
   "outputs": [],
   "source": [
    "# Finding # 12\n",
    "# Chanrged off Loans as a percentage goes up significantly as\n",
    "    # The number of 30+ days past-due incidences of delinquency in the borrower's credit file for the past 2 years exceeds 7"
   ]
  },
  {
   "cell_type": "code",
   "execution_count": 349,
   "id": "2402eccb-201c-498e-9f4d-5a462417ae6a",
   "metadata": {},
   "outputs": [
    {
     "name": "stdout",
     "output_type": "stream",
     "text": [
      "                charged_off_loans  total_loans  charged_off_percentage\n",
      "inq_last_6mths                                                        \n",
      "0                            1806        15797                   11.43\n",
      "1                            1334         8964                   14.88\n",
      "2                             733         4726                   15.51\n",
      "3                             481         2423                   19.85\n",
      "4                              27          238                   11.34\n",
      "5                              16          102                   15.69\n",
      "6                              10           40                   25.00\n",
      "7                               7           28                   25.00\n",
      "8                               2            9                   22.22\n"
     ]
    },
    {
     "data": {
      "image/png": "[encoded data removed]",
      "text/plain": [
       "<Figure size 1000x600 with 1 Axes>"
      ]
     },
     "metadata": {},
     "output_type": "display_data"
    }
   ],
   "source": [
    "# Relationship between loan_status and inq_last_6mths\n",
    "# Create a pivot table to calculate total loans by inq_last_6mths\n",
    "total_loans = pd.pivot_table(\n",
    "    data=loan_data,\n",
    "    index='inq_last_6mths',\n",
    "    values='id',\n",
    "    aggfunc='count'\n",
    ").rename(columns={'id': 'total_loans'})\n",
    "\n",
    "# Create a pivot table to calculate charged off loans by annual_inc_bucket\n",
    "charged_off_loans = pd.pivot_table(\n",
    "    data=loan_data[loan_data['loan_status'] == 'Charged Off'],\n",
    "    index='inq_last_6mths',\n",
    "    values='id',\n",
    "    aggfunc='count'\n",
    ").rename(columns={'id': 'charged_off_loans'})\n",
    "\n",
    "# Combine the two tables\n",
    "percentage_pivot = charged_off_loans.join(total_loans)\n",
    "\n",
    "# Calculate the percentage of charged off loans\n",
    "percentage_pivot['charged_off_percentage'] = (\n",
    "    (percentage_pivot['charged_off_loans'] / percentage_pivot['total_loans']) * 100\n",
    ").round(2)\n",
    "\n",
    "# Display the Pivot Table\n",
    "print(percentage_pivot)\n",
    "\n",
    "# Visualize the results\n",
    "plt.figure(figsize=(10, 6))\n",
    "percentage_pivot['charged_off_percentage'].plot(kind='bar')\n",
    "plt.title('Percentage of Loans Charged Off by inq_last_6mths')\n",
    "plt.xlabel('inq_last_6mths')\n",
    "plt.ylabel('Charged Off Percentage (%)')\n",
    "plt.xticks(rotation=45)\n",
    "plt.show()"
   ]
  },
  {
   "cell_type": "code",
   "execution_count": 353,
   "id": "737e071a-8764-4be5-a856-e836b4a69414",
   "metadata": {},
   "outputs": [],
   "source": [
    "# Finding # 13\n",
    "# Chanrged off Loans as a percentage goes up significantly as\n",
    "    # The number of inquiries in past 6 months (excluding auto and mortgage inquiries) exceeds 5"
   ]
  },
  {
   "cell_type": "code",
   "execution_count": 355,
   "id": "65cf9bc5-ab9e-4351-a0fa-e5299774af93",
   "metadata": {},
   "outputs": [
    {
     "name": "stdout",
     "output_type": "stream",
     "text": [
      "          charged_off_loans  total_loans  charged_off_percentage\n",
      "open_acc                                                        \n",
      "2                        91          466                   19.53\n",
      "3                       205         1262                   16.24\n",
      "4                       284         1965                   14.45\n",
      "5                       341         2702                   12.62\n",
      "6                       441         3352                   13.16\n",
      "7                       440         3372                   13.05\n",
      "8                       443         3266                   13.56\n",
      "9                       401         3054                   13.13\n",
      "10                      376         2590                   14.52\n",
      "11                      306         2201                   13.90\n",
      "12                      231         1827                   12.64\n",
      "13                      203         1489                   13.63\n",
      "14                      174         1169                   14.88\n",
      "15                      129          903                   14.29\n",
      "16                       67          690                    9.71\n",
      "17                       70          544                   12.87\n",
      "18                       55          405                   13.58\n",
      "19                       41          291                   14.09\n",
      "20                       35          218                   16.06\n",
      "21                       28          193                   14.51\n",
      "22                       13          115                   11.30\n",
      "23                       10           70                   14.29\n",
      "24                        5           53                    9.43\n",
      "25                        9           44                   20.45\n",
      "26                        4           20                   20.00\n",
      "27                        4           16                   25.00\n",
      "28                        3           18                   16.67\n",
      "30                        1            6                   16.67\n",
      "31                        2            4                   50.00\n",
      "33                        2            3                   66.67\n",
      "34                        1            5                   20.00\n",
      "38                        1            1                  100.00\n"
     ]
    },
    {
     "data": {
      "image/png": "[encoded data removed]",
      "text/plain": [
       "<Figure size 1000x600 with 1 Axes>"
      ]
     },
     "metadata": {},
     "output_type": "display_data"
    }
   ],
   "source": [
    "# Relationship between loan_status and open_acc\n",
    "# Create a pivot table to calculate total loans by open_acc\n",
    "total_loans = pd.pivot_table(\n",
    "    data=loan_data,\n",
    "    index='open_acc',\n",
    "    values='id',\n",
    "    aggfunc='count'\n",
    ").rename(columns={'id': 'total_loans'})\n",
    "\n",
    "# Create a pivot table to calculate charged off loans by annual_inc_bucket\n",
    "charged_off_loans = pd.pivot_table(\n",
    "    data=loan_data[loan_data['loan_status'] == 'Charged Off'],\n",
    "    index='open_acc',\n",
    "    values='id',\n",
    "    aggfunc='count'\n",
    ").rename(columns={'id': 'charged_off_loans'})\n",
    "\n",
    "# Combine the two tables\n",
    "percentage_pivot = charged_off_loans.join(total_loans)\n",
    "\n",
    "# Calculate the percentage of charged off loans\n",
    "percentage_pivot['charged_off_percentage'] = (\n",
    "    (percentage_pivot['charged_off_loans'] / percentage_pivot['total_loans']) * 100\n",
    ").round(2)\n",
    "\n",
    "# Display the Pivot Table\n",
    "print(percentage_pivot)\n",
    "\n",
    "# Visualize the results\n",
    "plt.figure(figsize=(10, 6))\n",
    "percentage_pivot['charged_off_percentage'].plot(kind='bar')\n",
    "plt.title('Percentage of Loans Charged Off by open_acc')\n",
    "plt.xlabel('open_acc')\n",
    "plt.ylabel('Charged Off Percentage (%)')\n",
    "plt.xticks(rotation=45)\n",
    "plt.show()"
   ]
  },
  {
   "cell_type": "code",
   "execution_count": 357,
   "id": "744b4bd5-3172-4e22-a44d-d7cc09731064",
   "metadata": {},
   "outputs": [],
   "source": [
    "# Finding # 13\n",
    "# Not really a very strong relationship but - \n",
    "    # Chanrged off Loans as a percentage goes up significantly as\n",
    "        # The number of open credit lines in the borrower's credit file exceeds 30"
   ]
  },
  {
   "cell_type": "code",
   "execution_count": 359,
   "id": "3fdbb5f3-4a02-42a9-ba11-7f608e07ae18",
   "metadata": {},
   "outputs": [
    {
     "name": "stdout",
     "output_type": "stream",
     "text": [
      "         charged_off_loans  total_loans  charged_off_percentage\n",
      "pub_rec                                                        \n",
      "0                     4048        30573                   13.24\n",
      "1                      358         1702                   21.03\n",
      "2                       10           45                   22.22\n"
     ]
    },
    {
     "data": {
      "image/png": "[encoded data removed]",
      "text/plain": [
       "<Figure size 1000x600 with 1 Axes>"
      ]
     },
     "metadata": {},
     "output_type": "display_data"
    }
   ],
   "source": [
    "# Relationship between loan_status and pub_rec\n",
    "# Create a pivot table to calculate total loans by pub_rec\n",
    "total_loans = pd.pivot_table(\n",
    "    data=loan_data,\n",
    "    index='pub_rec',\n",
    "    values='id',\n",
    "    aggfunc='count'\n",
    ").rename(columns={'id': 'total_loans'})\n",
    "\n",
    "# Create a pivot table to calculate charged off loans by annual_inc_bucket\n",
    "charged_off_loans = pd.pivot_table(\n",
    "    data=loan_data[loan_data['loan_status'] == 'Charged Off'],\n",
    "    index='pub_rec',\n",
    "    values='id',\n",
    "    aggfunc='count'\n",
    ").rename(columns={'id': 'charged_off_loans'})\n",
    "\n",
    "# Combine the two tables\n",
    "percentage_pivot = charged_off_loans.join(total_loans)\n",
    "\n",
    "# Calculate the percentage of charged off loans\n",
    "percentage_pivot['charged_off_percentage'] = (\n",
    "    (percentage_pivot['charged_off_loans'] / percentage_pivot['total_loans']) * 100\n",
    ").round(2)\n",
    "\n",
    "# Display the Pivot Table\n",
    "print(percentage_pivot)\n",
    "\n",
    "# Visualize the results\n",
    "plt.figure(figsize=(10, 6))\n",
    "percentage_pivot['charged_off_percentage'].plot(kind='bar')\n",
    "plt.title('Percentage of Loans Charged Off by pub_rec')\n",
    "plt.xlabel('pub_rec')\n",
    "plt.ylabel('Charged Off Percentage (%)')\n",
    "plt.xticks(rotation=45)\n",
    "plt.show()"
   ]
  },
  {
   "cell_type": "code",
   "execution_count": 361,
   "id": "b353302a-d7be-4df2-ab43-080122db2e7a",
   "metadata": {},
   "outputs": [],
   "source": [
    "# Finding # 14\n",
    "    # Chanrged off Loans as a percentage goes up significantly as\n",
    "        # The number of derogatory public records is more than '0' and goes up as we increase from '1' to '2'"
   ]
  },
  {
   "cell_type": "code",
   "execution_count": 363,
   "id": "08945435-4b08-4590-b598-f855bc0e624a",
   "metadata": {},
   "outputs": [
    {
     "name": "stdout",
     "output_type": "stream",
     "text": [
      "                      charged_off_loans  total_loans  charged_off_percentage\n",
      "pub_rec_bankruptcies                                                        \n",
      "0.00                               4129        30935                   13.35\n",
      "1.00                                285         1386                   20.56\n",
      "2.00                                  2            6                   33.33\n"
     ]
    },
    {
     "data": {
      "image/png": "[encoded data removed]",
      "text/plain": [
       "<Figure size 1000x600 with 1 Axes>"
      ]
     },
     "metadata": {},
     "output_type": "display_data"
    }
   ],
   "source": [
    "# Relationship between loan_status and pub_rec_bankruptcies\n",
    "# Create a pivot table to calculate total loans by pub_rec_bankruptcies\n",
    "total_loans = pd.pivot_table(\n",
    "    data=loan_data,\n",
    "    index='pub_rec_bankruptcies',\n",
    "    values='id',\n",
    "    aggfunc='count'\n",
    ").rename(columns={'id': 'total_loans'})\n",
    "\n",
    "# Create a pivot table to calculate charged off loans by annual_inc_bucket\n",
    "charged_off_loans = pd.pivot_table(\n",
    "    data=loan_data[loan_data['loan_status'] == 'Charged Off'],\n",
    "    index='pub_rec_bankruptcies',\n",
    "    values='id',\n",
    "    aggfunc='count'\n",
    ").rename(columns={'id': 'charged_off_loans'})\n",
    "\n",
    "# Combine the two tables\n",
    "percentage_pivot = charged_off_loans.join(total_loans)\n",
    "\n",
    "# Calculate the percentage of charged off loans\n",
    "percentage_pivot['charged_off_percentage'] = (\n",
    "    (percentage_pivot['charged_off_loans'] / percentage_pivot['total_loans']) * 100\n",
    ").round(2)\n",
    "\n",
    "# Display the Pivot Table\n",
    "print(percentage_pivot)\n",
    "\n",
    "# Visualize the results\n",
    "plt.figure(figsize=(10, 6))\n",
    "percentage_pivot['charged_off_percentage'].plot(kind='bar')\n",
    "plt.title('Percentage of Loans Charged Off by pub_rec_bankruptcies')\n",
    "plt.xlabel('pub_rec_bankruptcies')\n",
    "plt.ylabel('Charged Off Percentage (%)')\n",
    "plt.xticks(rotation=45)\n",
    "plt.show()"
   ]
  },
  {
   "cell_type": "code",
   "execution_count": 365,
   "id": "c0e06ccf-c69e-41f6-87fa-196b0bfd4e5b",
   "metadata": {},
   "outputs": [],
   "source": [
    "# Finding # 15\n",
    "    # Chanrged off Loans as a percentage goes up significantly as\n",
    "        # The number of public record bankruptcies increases significantly as it increases from 0' to '1' and then again to '2'"
   ]
  },
  {
   "cell_type": "code",
   "execution_count": 367,
   "id": "de04a04a-b3be-44ca-b55c-176c8a4f2bb8",
   "metadata": {},
   "outputs": [
    {
     "name": "stdout",
     "output_type": "stream",
     "text": [
      "                  charged_off_loans  total_loans  charged_off_percentage\n",
      "application_type                                                        \n",
      "INDIVIDUAL                     4416        32327                   13.66\n"
     ]
    },
    {
     "data": {
      "image/png": "[encoded data removed]",
      "text/plain": [
       "<Figure size 1000x600 with 1 Axes>"
      ]
     },
     "metadata": {},
     "output_type": "display_data"
    }
   ],
   "source": [
    "# Relationship between loan_status and application_type\n",
    "# Create a pivot table to calculate total loans by application_type\n",
    "total_loans = pd.pivot_table(\n",
    "    data=loan_data,\n",
    "    index='application_type',\n",
    "    values='id',\n",
    "    aggfunc='count'\n",
    ").rename(columns={'id': 'total_loans'})\n",
    "\n",
    "# Create a pivot table to calculate charged off loans by application_type\n",
    "charged_off_loans = pd.pivot_table(\n",
    "    data=loan_data[loan_data['loan_status'] == 'Charged Off'],\n",
    "    index='application_type',\n",
    "    values='id',\n",
    "    aggfunc='count'\n",
    ").rename(columns={'id': 'charged_off_loans'})\n",
    "\n",
    "# Combine the two tables\n",
    "percentage_pivot = charged_off_loans.join(total_loans)\n",
    "\n",
    "# Calculate the percentage of charged off loans\n",
    "percentage_pivot['charged_off_percentage'] = (\n",
    "    (percentage_pivot['charged_off_loans'] / percentage_pivot['total_loans']) * 100\n",
    ").round(2)\n",
    "\n",
    "# Display the Pivot Table\n",
    "print(percentage_pivot)\n",
    "\n",
    "# Visualize the results\n",
    "plt.figure(figsize=(10, 6))\n",
    "percentage_pivot['charged_off_percentage'].plot(kind='bar')\n",
    "plt.title('Percentage of Loans Charged Off by application_type')\n",
    "plt.xlabel('application_type')\n",
    "plt.ylabel('Charged Off Percentage (%)')\n",
    "plt.xticks(rotation=45)\n",
    "plt.show()"
   ]
  },
  {
   "cell_type": "code",
   "execution_count": 369,
   "id": "99ad3f59-cdd4-440f-840e-5488f34d7658",
   "metadata": {},
   "outputs": [],
   "source": [
    "# Finding # 15\n",
    "    # All the application types are from \"individuals\" and hence not trend or relationship is visible here."
   ]
  },
  {
   "cell_type": "code",
   "execution_count": null,
   "id": "50c5f2d2-e170-4039-91e5-a71d66caec08",
   "metadata": {},
   "outputs": [],
   "source": []
  },
  {
   "cell_type": "code",
   "execution_count": null,
   "id": "e6dc74ca-860d-4203-b96f-1616533fa4f7",
   "metadata": {},
   "outputs": [],
   "source": []
  },
  {
   "cell_type": "code",
   "execution_count": null,
   "id": "e078736c-7757-499e-9c4e-e44bb31d410e",
   "metadata": {},
   "outputs": [],
   "source": []
  },
  {
   "cell_type": "code",
   "execution_count": null,
   "id": "c7b7c4cd-e554-474a-8d62-3aa06b146733",
   "metadata": {},
   "outputs": [],
   "source": []
  },
  {
   "cell_type": "code",
   "execution_count": null,
   "id": "18aca823-bee8-4f04-a6e2-391b900cf6e9",
   "metadata": {},
   "outputs": [],
   "source": []
  },
  {
   "cell_type": "code",
   "execution_count": null,
   "id": "4a7ac993-9710-439f-92e1-da8e6f18f81f",
   "metadata": {},
   "outputs": [],
   "source": []
  },
  {
   "cell_type": "code",
   "execution_count": null,
   "id": "d42fa7f9-387b-460c-8a08-e9731068e6dc",
   "metadata": {},
   "outputs": [],
   "source": []
  },
  {
   "cell_type": "code",
   "execution_count": null,
   "id": "4859955c-68f1-452a-8dd2-2eaf1a0574e5",
   "metadata": {},
   "outputs": [],
   "source": [
    "    "
   ]
  },
  {
   "cell_type": "code",
   "execution_count": null,
   "id": "09a79625-bec2-4ba2-8d23-706edeeda729",
   "metadata": {},
   "outputs": [],
   "source": []
  },
  {
   "cell_type": "code",
   "execution_count": null,
   "id": "e37d8a19-8097-471f-afde-d1db3cbe9b52",
   "metadata": {},
   "outputs": [],
   "source": []
  },
  {
   "cell_type": "code",
   "execution_count": null,
   "id": "4dbf1986-e591-41ed-a1a8-5b80c5be39b9",
   "metadata": {},
   "outputs": [],
   "source": []
  },
  {
   "cell_type": "code",
   "execution_count": null,
   "id": "1096b9eb-ff78-4361-aa97-a0e9904e838a",
   "metadata": {},
   "outputs": [],
   "source": []
  },
  {
   "cell_type": "code",
   "execution_count": null,
   "id": "ea3923da-a28d-4622-8314-bab5940cc12f",
   "metadata": {},
   "outputs": [],
   "source": []
  },
  {
   "cell_type": "code",
   "execution_count": null,
   "id": "20b76ead-5a98-46fe-98a3-1b2a2e40c9a7",
   "metadata": {},
   "outputs": [],
   "source": []
  },
  {
   "cell_type": "code",
   "execution_count": null,
   "id": "92e84683-d5d2-437a-8caf-0df78a121798",
   "metadata": {},
   "outputs": [],
   "source": []
  },
  {
   "cell_type": "code",
   "execution_count": null,
   "id": "3b6c0bb8-40d8-4d9e-88d1-394de8eb3e3a",
   "metadata": {},
   "outputs": [],
   "source": []
  },
  {
   "cell_type": "code",
   "execution_count": null,
   "id": "1794eb05-980f-4d87-a0f0-befad45515fe",
   "metadata": {},
   "outputs": [],
   "source": []
  },
  {
   "cell_type": "code",
   "execution_count": null,
   "id": "b6b54f7d-c378-4b64-a4b3-1f347ace4328",
   "metadata": {},
   "outputs": [],
   "source": []
  },
  {
   "cell_type": "code",
   "execution_count": null,
   "id": "3a001e08-9dce-4a78-861d-1ca2ce32eaef",
   "metadata": {},
   "outputs": [],
   "source": []
  },
  {
   "cell_type": "code",
   "execution_count": null,
   "id": "ae65374e-a58d-45ce-8eb8-5ff94cea006c",
   "metadata": {},
   "outputs": [],
   "source": []
  },
  {
   "cell_type": "code",
   "execution_count": null,
   "id": "5ac2e189-70a0-4819-ba13-4da582924127",
   "metadata": {},
   "outputs": [],
   "source": []
  },
  {
   "cell_type": "code",
   "execution_count": null,
   "id": "9a28b92d-3328-4a83-80e3-6557519cfda6",
   "metadata": {},
   "outputs": [],
   "source": []
  },
  {
   "cell_type": "code",
   "execution_count": null,
   "id": "09bb0411-e9be-4ed9-9bb2-991f2709f4ae",
   "metadata": {},
   "outputs": [],
   "source": []
  },
  {
   "cell_type": "code",
   "execution_count": null,
   "id": "306ba921-4123-4545-ac3c-4b1ca8d063f6",
   "metadata": {},
   "outputs": [],
   "source": []
  },
  {
   "cell_type": "code",
   "execution_count": null,
   "id": "78553c75-9216-4ee8-a82a-dd81acacc0c5",
   "metadata": {},
   "outputs": [],
   "source": []
  },
  {
   "cell_type": "code",
   "execution_count": null,
   "id": "48fa3d39-98e3-4b98-b663-1c7c9bad7e0f",
   "metadata": {},
   "outputs": [],
   "source": []
  },
  {
   "cell_type": "code",
   "execution_count": null,
   "id": "97fea8b4-6bb4-4e49-aaac-442558dac763",
   "metadata": {},
   "outputs": [],
   "source": []
  },
  {
   "cell_type": "code",
   "execution_count": null,
   "id": "f8a1051f-244f-4281-8cf6-56600d590ba6",
   "metadata": {},
   "outputs": [],
   "source": []
  },
  {
   "cell_type": "code",
   "execution_count": null,
   "id": "518166ee-c8f2-4e83-bfe4-ce37540c9ee4",
   "metadata": {},
   "outputs": [],
   "source": []
  },
  {
   "cell_type": "code",
   "execution_count": null,
   "id": "257e5d56-ac8a-4dfd-8caa-e0a8176022a0",
   "metadata": {},
   "outputs": [],
   "source": []
  },
  {
   "cell_type": "code",
   "execution_count": null,
   "id": "fd723969-417e-491a-bb17-a0f2e1f987c4",
   "metadata": {},
   "outputs": [],
   "source": []
  },
  {
   "cell_type": "code",
   "execution_count": null,
   "id": "364d782a-755c-4db8-b35a-d3bd54370e54",
   "metadata": {},
   "outputs": [],
   "source": []
  },
  {
   "cell_type": "code",
   "execution_count": null,
   "id": "7694a754-3352-4e29-8941-e37cb93b1409",
   "metadata": {},
   "outputs": [],
   "source": []
  },
  {
   "cell_type": "code",
   "execution_count": null,
   "id": "285be546-b08b-4e90-b3dc-012592c811db",
   "metadata": {},
   "outputs": [],
   "source": []
  },
  {
   "cell_type": "code",
   "execution_count": null,
   "id": "230fd93d-3a00-47a8-a044-65185e0bc068",
   "metadata": {},
   "outputs": [],
   "source": []
  },
  {
   "cell_type": "code",
   "execution_count": null,
   "id": "02c6d6b2-4b81-447d-ad7c-04380a346576",
   "metadata": {},
   "outputs": [],
   "source": []
  },
  {
   "cell_type": "code",
   "execution_count": null,
   "id": "7f567bf8-f1b3-4502-913d-a87bf3e2ae37",
   "metadata": {},
   "outputs": [],
   "source": []
  },
  {
   "cell_type": "code",
   "execution_count": null,
   "id": "db9308a8-67c8-428b-aa05-0a20cd471076",
   "metadata": {},
   "outputs": [],
   "source": []
  },
  {
   "cell_type": "code",
   "execution_count": null,
   "id": "3e506026-1e5d-43f7-8b84-0d0df7ed5690",
   "metadata": {},
   "outputs": [],
   "source": []
  },
  {
   "cell_type": "code",
   "execution_count": null,
   "id": "6b4082ad-b258-44e2-9414-ee88ef15a5fb",
   "metadata": {},
   "outputs": [],
   "source": []
  },
  {
   "cell_type": "code",
   "execution_count": null,
   "id": "f0df419c-5c56-4811-be8f-7fd72114a2e4",
   "metadata": {},
   "outputs": [],
   "source": []
  },
  {
   "cell_type": "code",
   "execution_count": null,
   "id": "655506c0-5f69-4a93-ae22-0714da14b7a2",
   "metadata": {},
   "outputs": [],
   "source": []
  },
  {
   "cell_type": "code",
   "execution_count": null,
   "id": "9142436e-6396-4c48-9c1b-6d36b0262585",
   "metadata": {},
   "outputs": [],
   "source": []
  },
  {
   "cell_type": "code",
   "execution_count": 89,
   "id": "21f7d497-e6a7-4bbe-8d05-bcf3f3ce7f87",
   "metadata": {},
   "outputs": [
    {
     "data": {
      "text/plain": [
       "0    24000.0\n",
       "1    30000.0\n",
       "2    12252.0\n",
       "3    49200.0\n",
       "4    80000.0\n",
       "Name: annual_inc, dtype: float64"
      ]
     },
     "execution_count": 89,
     "metadata": {},
     "output_type": "execute_result"
    }
   ],
   "source": [
    "loan_data.annual_inc.head()"
   ]
  },
  {
   "cell_type": "code",
   "execution_count": 101,
   "id": "83cadfe2-c194-420f-8780-9b49df9cbbb4",
   "metadata": {},
   "outputs": [
    {
     "data": {
      "text/plain": [
       "annual_inc\n",
       "60000.0    1505\n",
       "50000.0    1057\n",
       "40000.0     876\n",
       "45000.0     830\n",
       "30000.0     825\n",
       "           ... \n",
       "56820.0       1\n",
       "45314.0       1\n",
       "53913.0       1\n",
       "62880.0       1\n",
       "27376.0       1\n",
       "Name: count, Length: 5318, dtype: int64"
      ]
     },
     "execution_count": 101,
     "metadata": {},
     "output_type": "execute_result"
    }
   ],
   "source": [
    "loan_data.annual_inc.value_counts()"
   ]
  },
  {
   "cell_type": "code",
   "execution_count": null,
   "id": "b17adb57-af8d-4af9-aba8-acae3810b7d4",
   "metadata": {},
   "outputs": [],
   "source": []
  },
  {
   "cell_type": "code",
   "execution_count": 99,
   "id": "ad65167c-4e49-4c58-917e-809ce4c43ddf",
   "metadata": {},
   "outputs": [
    {
     "data": {
      "text/plain": [
       "<function matplotlib.pyplot.show(close=None, block=None)>"
      ]
     },
     "execution_count": 99,
     "metadata": {},
     "output_type": "execute_result"
    },
    {
     "data": {
      "image/png": "[encoded data removed]",
      "text/plain": [
       "<Figure size 640x480 with 1 Axes>"
      ]
     },
     "metadata": {},
     "output_type": "display_data"
    }
   ],
   "source": [
    "#checking for outliers in annual_inc\n",
    "plt.boxplot(loan_data.annual_inc)\n",
    "plt.show"
   ]
  },
  {
   "cell_type": "code",
   "execution_count": null,
   "id": "03623778-fb70-4050-9aaa-f509880b5d78",
   "metadata": {},
   "outputs": [],
   "source": []
  },
  {
   "cell_type": "code",
   "execution_count": 105,
   "id": "89089302-3ba6-43c3-9734-35911e723b61",
   "metadata": {},
   "outputs": [
    {
     "data": {
      "image/png": "[encoded data removed]",
      "text/plain": [
       "<Figure size 640x480 with 1 Axes>"
      ]
     },
     "metadata": {},
     "output_type": "display_data"
    }
   ],
   "source": [
    "plt.boxplot(loan_data.loan_amnt[loan_data.loan_amnt>30000])\n",
    "plt.show()"
   ]
  },
  {
   "cell_type": "code",
   "execution_count": null,
   "id": "c023e9ab-91ed-4f6c-8e46-9a08ee64f8bd",
   "metadata": {},
   "outputs": [],
   "source": []
  },
  {
   "cell_type": "code",
   "execution_count": null,
   "id": "e5890c09-c94a-459b-96a7-855a44b5369b",
   "metadata": {},
   "outputs": [],
   "source": []
  },
  {
   "cell_type": "code",
   "execution_count": null,
   "id": "97c45fdf-880e-463d-ac4e-347a078f55eb",
   "metadata": {},
   "outputs": [],
   "source": []
  },
  {
   "cell_type": "code",
   "execution_count": null,
   "id": "d316d945-df13-454e-8a53-28bfea2a3157",
   "metadata": {},
   "outputs": [],
   "source": []
  },
  {
   "cell_type": "code",
   "execution_count": null,
   "id": "e1245ec8-41ff-46e4-aeb3-1da0220f096e",
   "metadata": {},
   "outputs": [],
   "source": []
  },
  {
   "cell_type": "code",
   "execution_count": null,
   "id": "cebed4c8-08cd-4f15-b70a-4f4674575037",
   "metadata": {},
   "outputs": [],
   "source": []
  },
  {
   "cell_type": "code",
   "execution_count": null,
   "id": "3703c887-aa16-4733-af06-3b14c654bb3f",
   "metadata": {},
   "outputs": [],
   "source": []
  },
  {
   "cell_type": "code",
   "execution_count": null,
   "id": "af213a43-7dbb-4400-a7ba-38aaafa581f0",
   "metadata": {},
   "outputs": [],
   "source": []
  },
  {
   "cell_type": "code",
   "execution_count": null,
   "id": "08f2e817-2298-40c3-80ea-59fc3ea35bf6",
   "metadata": {},
   "outputs": [],
   "source": []
  },
  {
   "cell_type": "code",
   "execution_count": null,
   "id": "98b0efc2-7f53-4575-919d-023c4c2dc6b4",
   "metadata": {},
   "outputs": [],
   "source": []
  },
  {
   "cell_type": "code",
   "execution_count": null,
   "id": "d3985822-a633-4940-8ef3-1b799d79d1d3",
   "metadata": {},
   "outputs": [],
   "source": []
  },
  {
   "cell_type": "code",
   "execution_count": null,
   "id": "2c9e2cee-ca67-40cd-bf72-da2fd7e57f91",
   "metadata": {},
   "outputs": [],
   "source": []
  }
 ],
 "metadata": {
  "kernelspec": {
   "display_name": "Python 3 (ipykernel)",
   "language": "python",
   "name": "python3"
  },
  "language_info": {
   "codemirror_mode": {
    "name": "ipython",
    "version": 3
   },
   "file_extension": ".py",
   "mimetype": "text/x-python",
   "name": "python",
   "nbconvert_exporter": "python",
   "pygments_lexer": "ipython3",
   "version": "3.12.4"
  }
 },
 "nbformat": 4,
 "nbformat_minor": 5
}
